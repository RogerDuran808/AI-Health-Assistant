{
 "cells": [
  {
   "cell_type": "markdown",
   "id": "4a0f4bdf",
   "metadata": {},
   "source": [
    "# LifeSnaps Preprocessing Experiments"
   ]
  },
  {
   "cell_type": "markdown",
   "id": "c91e1a7f",
   "metadata": {},
   "source": [
    "#### Import de llibreries necessaries"
   ]
  },
  {
   "cell_type": "code",
   "execution_count": 100,
   "id": "9a140353",
   "metadata": {},
   "outputs": [
    {
     "name": "stdout",
     "output_type": "stream",
     "text": [
      "Shape: (7410, 24)\n"
     ]
    }
   ],
   "source": [
    "import pandas as pd\n",
    "pd.set_option('display.max_columns', None)\n",
    "import numpy as np\n",
    "import matplotlib.pyplot as plt\n",
    "\n",
    "from sklearn.model_selection import train_test_split, GridSearchCV, StratifiedKFold\n",
    "from sklearn.preprocessing import StandardScaler, OneHotEncoder\n",
    "from sklearn.impute import SimpleImputer, KNNImputer\n",
    "from sklearn.compose import ColumnTransformer\n",
    "from sklearn.pipeline import Pipeline\n",
    "from sklearn.ensemble import RandomForestClassifier, GradientBoostingClassifier\n",
    "from sklearn.svm import SVC\n",
    "from sklearn.neural_network import MLPClassifier\n",
    "from sklearn.metrics import classification_report, f1_score, make_scorer, confusion_matrix, ConfusionMatrixDisplay, accuracy_score, roc_auc_score\n",
    "from sklearn.inspection import permutation_importance\n",
    "from sklearn.decomposition import PCA\n",
    "from imblearn.over_sampling import SMOTE\n",
    "from imblearn.pipeline import Pipeline as ImbPipeline\n",
    "\n",
    "import warnings\n",
    "warnings.filterwarnings('ignore')\n",
    "\n",
    "# Load the dataset\n",
    "df = pd.read_csv('../data/df_cleaned.csv')\n",
    "\n",
    "print(f\"Shape: {df.shape}\")"
   ]
  },
  {
   "cell_type": "markdown",
   "id": "49958206",
   "metadata": {},
   "source": [
    "## Lectura de dades i split de train / test"
   ]
  },
  {
   "cell_type": "code",
   "execution_count": 60,
   "id": "6d7abd20",
   "metadata": {},
   "outputs": [
    {
     "name": "stdout",
     "output_type": "stream",
     "text": [
      "Estructura dades amb target:\n",
      "(2290, 24)\n",
      "Estructura dades target null:\n",
      "(5120, 24)\n"
     ]
    }
   ],
   "source": [
    "# Comprovem quina es les estructura de les nostres dades faltants en el target\n",
    "TARGET = 'TIRED'\n",
    "\n",
    "df_complete = df.dropna(subset=[TARGET])\n",
    "\n",
    "df_null_targets = df[df[\"TIRED\"].isnull()]\n",
    "\n",
    "print(f\"Estructura dades amb target:\\n{df_complete.shape}\")\n",
    "print(f\"Estructura dades target null:\\n{df_null_targets.shape}\")"
   ]
  },
  {
   "cell_type": "code",
   "execution_count": 4,
   "id": "9a591587",
   "metadata": {},
   "outputs": [
    {
     "name": "stdout",
     "output_type": "stream",
     "text": [
      "\n",
      "Col. numeriques (20): \n",
      "['nightly_temperature', 'nremhr', 'rmssd', 'spo2', 'full_sleep_breathing_rate', 'stress_score', 'daily_temperature_variation', 'calories', 'bpm', 'sedentary_minutes', 'resting_hr', 'minutesAsleep', 'minutesAwake', 'sleep_efficiency', 'sleep_deep_ratio', 'sleep_wake_ratio', 'sleep_light_ratio', 'sleep_rem_ratio', 'steps', 'bmi']\n",
      "Col. categoriques (3): \n",
      "['age', 'gender', 'bmi_tipo']\n"
     ]
    }
   ],
   "source": [
    "# Difinim X i el target y\n",
    "# Prediccio de TIRED\n",
    "X = df_complete.drop(columns=[TARGET])\n",
    "y = df_complete[TARGET]\n",
    "\n",
    "numerical_features = X.select_dtypes(include=['number']).columns.tolist()\n",
    "categorical_features = X.select_dtypes(exclude=['number']).columns.tolist()\n",
    "\n",
    "print(f\"\\nCol. numeriques ({len(numerical_features)}): \\n{numerical_features}\")\n",
    "print(f\"Col. categoriques ({len(categorical_features)}): \\n{categorical_features}\")\n",
    "\n"
   ]
  },
  {
   "cell_type": "markdown",
   "id": "2324f272",
   "metadata": {},
   "source": [
    "### Train / Test Split"
   ]
  },
  {
   "cell_type": "code",
   "execution_count": 98,
   "id": "3fedc7f8",
   "metadata": {},
   "outputs": [
    {
     "name": "stdout",
     "output_type": "stream",
     "text": [
      "\n",
      "Train shape: (1832, 23)\n",
      "Test shape: (458, 23)\n",
      "\n",
      " ----------------------------------------------------------------------------------------------------\n",
      "\n",
      "Distribució train:\n",
      "TIRED\n",
      "0.0    0.615721\n",
      "1.0    0.384279\n",
      "Name: proportion, dtype: float64\n",
      "\n",
      "Distribució test:\n",
      "TIRED\n",
      "0.0    0.615721\n",
      "1.0    0.384279\n",
      "Name: proportion, dtype: float64\n"
     ]
    }
   ],
   "source": [
    "# Estratifiquem respecte un dels targets per tal d'assegurar el bon split\n",
    "X_train, X_test, y_train, y_test = train_test_split(X, y, test_size=0.20, random_state=42, stratify=y)\n",
    "\n",
    "\n",
    "print(f\"\\nTrain shape: {X_train.shape}\")\n",
    "print(f\"Test shape: {X_test.shape}\")\n",
    "print('\\n','--'*50)\n",
    "print(f\"\\nDistribució train:\\n{y_train.value_counts(normalize=True)}\")\n",
    "print(f\"\\nDistribució test:\\n{y_test.value_counts(normalize=True)}\")\n"
   ]
  },
  {
   "cell_type": "markdown",
   "id": "12cfabdb",
   "metadata": {},
   "source": [
    "### Preprocessador utilitzat inicial"
   ]
  },
  {
   "cell_type": "code",
   "execution_count": null,
   "id": "2ad49e84",
   "metadata": {},
   "outputs": [],
   "source": [
    "numeric_transformer = Pipeline(steps=[\n",
    "    (\"imputer\", SimpleImputer(strategy=\"median\")),\n",
    "    (\"scaler\", StandardScaler())])\n",
    "\n",
    "categorical_transformer = Pipeline(steps=[\n",
    "    (\"imputer\", SimpleImputer(strategy=\"most_frequent\")),\n",
    "    (\"onehot\", OneHotEncoder(handle_unknown='ignore', sparse_output=False))])\n",
    "\n",
    "\n",
    "preprocessor = ColumnTransformer(\n",
    "    transformers=[\n",
    "        (\"num\", numeric_transformer, numerical_features),\n",
    "        (\"cat\", categorical_transformer, categorical_features)])\n"
   ]
  },
  {
   "cell_type": "markdown",
   "id": "45316505",
   "metadata": {},
   "source": [
    "### Classifiers i Grids que utilitzarem"
   ]
  },
  {
   "cell_type": "code",
   "execution_count": 7,
   "id": "b09ee13d",
   "metadata": {},
   "outputs": [],
   "source": [
    "# Define classifiers\n",
    "CLASSIFIERS = {\n",
    "    \"MLP\": MLPClassifier(random_state=42, max_iter=500),\n",
    "    \"SVM\": SVC(random_state=42, probability=True),\n",
    "    \"RandomForest\": RandomForestClassifier(random_state=42, class_weight='balanced'),\n",
    "    \"GradientBoosting\": GradientBoostingClassifier(random_state=42)\n",
    "}\n",
    "\n",
    "# Param grids pel GridSearchCV\n",
    "# Complexitat reduida per tal que no porti un temps exegerat de execució\n",
    "# Un cop trobem el model bó podrem augmenter la complexitat del model\n",
    "PARAM_GRIDS = {\n",
    "    \"MLP\": {\n",
    "        \"classifier__hidden_layer_sizes\": [(100,), (100, 50)],\n",
    "        \"classifier__alpha\": [1e-4, 1e-3, 1e-2],\n",
    "\n",
    "    },\n",
    "    \"SVM\": {\n",
    "        \"classifier__C\": [0.1, 1, 10],\n",
    "        \"classifier__kernel\": [\"rbf\"], # Si hi ha bons resultats provar d'altres\n",
    "        \"classifier__gamma\": [\"scale\", \"auto\", 0.01]\n",
    "    },\n",
    "    \"RandomForest\": {\n",
    "        \"classifier__n_estimators\": [100, 200],\n",
    "        \"classifier__max_depth\": [None, 10, 20],\n",
    "        \"classifier__class_weight\": [\"balanced\", \"balanced_subsample\"]\n",
    "    },\n",
    "    \"GradientBoosting\": {\n",
    "        \"classifier__n_estimators\": [200, 400],\n",
    "        \"classifier__learning_rate\": [0.05, 0.1],\n",
    "        \"classifier__max_depth\": [3, 5]\n",
    "    }\n",
    "}"
   ]
  },
  {
   "cell_type": "markdown",
   "id": "9ddc26fc",
   "metadata": {},
   "source": [
    "## ENTRENAMENT DEL MODEL BASE"
   ]
  },
  {
   "cell_type": "code",
   "execution_count": null,
   "id": "7533c0fa",
   "metadata": {},
   "outputs": [],
   "source": [
    "# Provarem de apuntar al accuracy o al f1 score de la classe 1, \n",
    "f1_cls1 = make_scorer(f1_score, pos_label=1)\n",
    "cv = StratifiedKFold(n_splits=5, shuffle=True, random_state=42)"
   ]
  },
  {
   "cell_type": "code",
   "execution_count": null,
   "id": "f7716717",
   "metadata": {},
   "outputs": [
    {
     "name": "stdout",
     "output_type": "stream",
     "text": [
      "MLP                  | Best CV: 0.5944 | Test F1(cl1): 0.4667 | Acc: 0.5808\n",
      "SVM                  | Best CV: 0.6010 | Test F1(cl1): 0.4713 | Acc: 0.5983\n",
      "RandomForest         | Best CV: 0.6332 | Test F1(cl1): 0.4863 | Acc: 0.6310\n",
      "GradientBoosting     | Best CV: 0.6125 | Test F1(cl1): 0.4337 | Acc: 0.5895\n"
     ]
    }
   ],
   "source": [
    "base_results = []\n",
    "base_models = {}\n",
    "\n",
    "\n",
    "for model, classifier in CLASSIFIERS.items():\n",
    "    pipeline = ImbPipeline([\n",
    "        (\"preprocessor\", preprocessor),\n",
    "        (\"smote\", SMOTE(random_state=42)),\n",
    "        (\"classifier\", classifier)\n",
    "    ])\n",
    "\n",
    "    gs = GridSearchCV(\n",
    "        estimator=pipeline,\n",
    "        param_grid=PARAM_GRIDS[model],\n",
    "        scoring=\"accuracy\",\n",
    "        cv=cv,\n",
    "        n_jobs=-1,\n",
    "        refit=True\n",
    "    )\n",
    "    gs.fit(X_train, y_train)\n",
    "\n",
    "\n",
    "    best = gs.best_estimator_\n",
    "    base_models[model] = best\n",
    "    \n",
    "    y_pred = best.predict(X_test)\n",
    "\n",
    "    report = classification_report(\n",
    "        y_test,\n",
    "        y_pred, # Fem un predict amb el millor model trobat i comparem\n",
    "        labels=[0, 1],\n",
    "        output_dict=True,\n",
    "        zero_division=0\n",
    "    )\n",
    "\n",
    "    base_results.append({\n",
    "        \"Target\":                TARGET,\n",
    "        \"Experiment\":            \"Entrenament basic\",\n",
    "        \"Model\":                 model,\n",
    "        \"Best Params\":           gs.best_params_,\n",
    "        \"Best CV\":               gs.best_score_,\n",
    "        \"Test Precision (1)\":    report[\"1\"][\"precision\"],\n",
    "        \"Test Recall (1)\":       report[\"1\"][\"recall\"],\n",
    "        \"Test F1 (1)\":           report[\"1\"][\"f1-score\"],\n",
    "        \"Test F1 (macro global)\": f1_score(y_test, y_pred, average=\"macro\"),\n",
    "        \"Test Accuracy\":         report[\"accuracy\"],\n",
    "    })\n",
    "\n",
    "    print(f\"{model:20s} | Best CV: {gs.best_score_:.4f} | Test F1(cl1): {report[\"1\"][\"f1-score\"]:.4f} | Acc: {report[\"accuracy\"]:.4f}\")"
   ]
  },
  {
   "cell_type": "code",
   "execution_count": 34,
   "id": "d13c45c7",
   "metadata": {},
   "outputs": [
    {
     "data": {
      "text/html": [
       "<div>\n",
       "<style scoped>\n",
       "    .dataframe tbody tr th:only-of-type {\n",
       "        vertical-align: middle;\n",
       "    }\n",
       "\n",
       "    .dataframe tbody tr th {\n",
       "        vertical-align: top;\n",
       "    }\n",
       "\n",
       "    .dataframe thead th {\n",
       "        text-align: right;\n",
       "    }\n",
       "</style>\n",
       "<table border=\"1\" class=\"dataframe\">\n",
       "  <thead>\n",
       "    <tr style=\"text-align: right;\">\n",
       "      <th></th>\n",
       "      <th>Target</th>\n",
       "      <th>Experiment</th>\n",
       "      <th>Model</th>\n",
       "      <th>Best CV</th>\n",
       "      <th>Test F1 (1)</th>\n",
       "      <th>Test F1 (macro global)</th>\n",
       "      <th>Test Accuracy</th>\n",
       "    </tr>\n",
       "  </thead>\n",
       "  <tbody>\n",
       "    <tr>\n",
       "      <th>0</th>\n",
       "      <td>TIRED</td>\n",
       "      <td>Entrenament basic</td>\n",
       "      <td>MLP</td>\n",
       "      <td>0.5944</td>\n",
       "      <td>0.4667</td>\n",
       "      <td>0.5607</td>\n",
       "      <td>0.5808</td>\n",
       "    </tr>\n",
       "    <tr>\n",
       "      <th>1</th>\n",
       "      <td>TIRED</td>\n",
       "      <td>Entrenament basic</td>\n",
       "      <td>SVM</td>\n",
       "      <td>0.6010</td>\n",
       "      <td>0.4713</td>\n",
       "      <td>0.5737</td>\n",
       "      <td>0.5983</td>\n",
       "    </tr>\n",
       "    <tr>\n",
       "      <th>2</th>\n",
       "      <td>TIRED</td>\n",
       "      <td>Entrenament basic</td>\n",
       "      <td>RandomForest</td>\n",
       "      <td>0.6332</td>\n",
       "      <td>0.4863</td>\n",
       "      <td>0.5992</td>\n",
       "      <td>0.6310</td>\n",
       "    </tr>\n",
       "    <tr>\n",
       "      <th>3</th>\n",
       "      <td>TIRED</td>\n",
       "      <td>Entrenament basic</td>\n",
       "      <td>GradientBoosting</td>\n",
       "      <td>0.6125</td>\n",
       "      <td>0.4337</td>\n",
       "      <td>0.5559</td>\n",
       "      <td>0.5895</td>\n",
       "    </tr>\n",
       "  </tbody>\n",
       "</table>\n",
       "</div>"
      ],
      "text/plain": [
       "  Target         Experiment             Model  Best CV  Test F1 (1)  \\\n",
       "0  TIRED  Entrenament basic               MLP   0.5944       0.4667   \n",
       "1  TIRED  Entrenament basic               SVM   0.6010       0.4713   \n",
       "2  TIRED  Entrenament basic      RandomForest   0.6332       0.4863   \n",
       "3  TIRED  Entrenament basic  GradientBoosting   0.6125       0.4337   \n",
       "\n",
       "   Test F1 (macro global)  Test Accuracy  \n",
       "0                  0.5607         0.5808  \n",
       "1                  0.5737         0.5983  \n",
       "2                  0.5992         0.6310  \n",
       "3                  0.5559         0.5895  "
      ]
     },
     "metadata": {},
     "output_type": "display_data"
    }
   ],
   "source": [
    "# Convertim en un DataFrame\n",
    "base_results_df = pd.DataFrame(base_results)\n",
    "\n",
    "display_cols = [\"Target\",\"Experiment\",\"Model\",\"Best CV\",\"Test F1 (1)\",\"Test F1 (macro global)\",\"Test Accuracy\"]\n",
    "\n",
    "display(base_results_df[display_cols].round(4))\n"
   ]
  },
  {
   "cell_type": "code",
   "execution_count": 35,
   "id": "74b98f6e",
   "metadata": {},
   "outputs": [
    {
     "data": {
      "image/png": "[encoded data removed]",
      "text/plain": [
       "<Figure size 640x480 with 1 Axes>"
      ]
     },
     "metadata": {},
     "output_type": "display_data"
    }
   ],
   "source": [
    "\n",
    "best_acc = base_results_df[\"Test F1 (1)\"].idxmax()\n",
    "\n",
    "best_model_name = base_results_df.loc[best_acc, \"Model\"]\n",
    "best_model = base_models[best_model_name]\n",
    "\n",
    "# Predict and compute confusion matrix\n",
    "y_pred = best_model.predict(X_test)\n",
    "cm = confusion_matrix(y_test, y_pred)\n",
    "\n",
    "# Plot confusion matrix\n",
    "fig = plt.figure()\n",
    "plt.imshow(cm, interpolation='nearest', cmap='Blues')\n",
    "plt.title(f\"Confusion Matrix: {TARGET}\\nModel: {best_model_name}\")\n",
    "plt.xlabel(\"Predicted label\")\n",
    "plt.ylabel(\"True label\")\n",
    "tick_marks = [0, 1]\n",
    "plt.xticks(tick_marks, tick_marks)\n",
    "plt.yticks(tick_marks, tick_marks)\n",
    "\n",
    "# Annotate each cell with the count\n",
    "for i in range(cm.shape[0]):\n",
    "    for j in range(cm.shape[1]):\n",
    "        plt.text(j, i, cm[i, j], ha=\"center\", va=\"center\")\n",
    "\n",
    "plt.tight_layout()\n",
    "plt.show()"
   ]
  },
  {
   "cell_type": "markdown",
   "id": "215ba5fe",
   "metadata": {},
   "source": [
    "## EXPERIMENT 1: Importancia de les caracteristiques"
   ]
  },
  {
   "cell_type": "markdown",
   "id": "a3c94399",
   "metadata": {},
   "source": [
    "Entrenem RandomForest per indentificar les caracteristiques més importants (10-15), posteriorment entrenem els models utilitzant aquestes 10-15 característiques, per veure si augmenta el rendiment del model. Proavarem tambe amb permutation importances."
   ]
  },
  {
   "cell_type": "markdown",
   "id": "d29a22c5",
   "metadata": {},
   "source": [
    "### Feature Importance"
   ]
  },
  {
   "cell_type": "markdown",
   "id": "56753310",
   "metadata": {},
   "source": [
    "La Gini importance d’una feature és: La suma de totes les reduccions d’impuresa (Gini) que ha causat al llarg de tots els arbres i de totes les seves aparicions."
   ]
  },
  {
   "cell_type": "code",
   "execution_count": 87,
   "id": "fa629838",
   "metadata": {},
   "outputs": [
    {
     "name": "stdout",
     "output_type": "stream",
     "text": [
      "Millors paràmetres: {'clf__max_depth': 15, 'clf__min_samples_leaf': 2, 'clf__min_samples_split': 8, 'clf__n_estimators': 300}\n",
      "CV Score: 0.6386\n",
      "Test F1 (clase=1): 0.5248\n",
      "Test Accuracy:     0.6441\n",
      "Top-10 features: ['bpm', 'calories', 'steps', 'resting_hr', 'minutesAsleep', 'daily_temperature_variation', 'sedentary_minutes', 'nightly_temperature', 'bmi', 'minutesAwake']\n",
      "Top-15 features: ['bpm', 'calories', 'steps', 'resting_hr', 'minutesAsleep', 'daily_temperature_variation', 'sedentary_minutes', 'nightly_temperature', 'bmi', 'minutesAwake', 'stress_score', 'sleep_deep_ratio', 'sleep_light_ratio', 'sleep_efficiency', 'sleep_wake_ratio']\n"
     ]
    },
    {
     "data": {
      "image/png": "[encoded data removed]",
      "text/plain": [
       "<Figure size 1000x600 with 1 Axes>"
      ]
     },
     "metadata": {},
     "output_type": "display_data"
    }
   ],
   "source": [
    "# -----------------------------------------------\n",
    "# 1. Param grid & pipeline bàsic\n",
    "# -----------------------------------------------\n",
    "param_grid_rf = {\n",
    "    \"clf__n_estimators\":      [100, 200, 300],\n",
    "    \"clf__max_depth\":         [None, 15, 30],\n",
    "    \"clf__min_samples_split\": [2, 4, 8],\n",
    "    \"clf__min_samples_leaf\":  [1, 2, 4]\n",
    "}\n",
    "\n",
    "base_pipe_rf = ImbPipeline([\n",
    "    (\"preprocessor\", preprocessor),\n",
    "    (\"smote\", SMOTE(random_state=42)),\n",
    "    (\"clf\", RandomForestClassifier(class_weight=\"balanced\", random_state=42, n_jobs=-1))\n",
    "])\n",
    "\n",
    "# -----------------------------------------------\n",
    "# 2. Entrenament + selecció del millor model\n",
    "# -----------------------------------------------\n",
    "gs = GridSearchCV(\n",
    "    estimator=base_pipe_rf,\n",
    "    param_grid=param_grid_rf,\n",
    "    scoring=\"accuracy\",   # accuracy o f1_score\n",
    "    cv=cv,\n",
    "    n_jobs=-1,\n",
    "    refit=True\n",
    ")\n",
    "gs.fit(X_train, y_train)\n",
    "\n",
    "best_model = gs.best_estimator_\n",
    "print(\"Millors paràmetres:\", gs.best_params_)\n",
    "print(\"CV Score:\", round(gs.best_score_, 4))\n",
    "\n",
    "# -----------------------------------------------\n",
    "# 3. Extracció dels noms de feature després del preproc\n",
    "# -----------------------------------------------\n",
    "# suposant que tens variables numerical_features i categorical_features\n",
    "preproc = best_model.named_steps[\"preprocessor\"]\n",
    "cat_pipe = preproc.named_transformers_[\"cat\"]\n",
    "ohe = cat_pipe.named_steps.get(\"onehot\") or cat_pipe.named_steps.get(\"encode\")\n",
    "\n",
    "ohe_names = ohe.get_feature_names_out(categorical_features)\n",
    "all_features = numerical_features + list(ohe_names)\n",
    "\n",
    "# -----------------------------------------------\n",
    "# 4. Importàncies Gini i agregació per feature “base”\n",
    "# -----------------------------------------------\n",
    "importances_raw = pd.Series(\n",
    "    best_model.named_steps[\"clf\"].feature_importances_,\n",
    "    index=all_features\n",
    ")\n",
    "\n",
    "def base_name(feat):\n",
    "    # si la feature ve d'una codificació one-hot d'una cat_feature\n",
    "    for cat in categorical_features:\n",
    "        prefix = f\"{cat}_\"\n",
    "        if feat.startswith(prefix):\n",
    "            return cat\n",
    "    return feat\n",
    "\n",
    "agg_importances = (\n",
    "    importances_raw\n",
    "    .groupby(base_name)\n",
    "    .sum()\n",
    "    .sort_values(ascending=False)\n",
    ")\n",
    "\n",
    "# -----------------------------------------------\n",
    "# 5. Mètriques sobre el test set\n",
    "# -----------------------------------------------\n",
    "y_pred = best_model.predict(X_test)\n",
    "f1_test = f1_score(y_test, y_pred, pos_label=1)\n",
    "acc_test = accuracy_score(y_test, y_pred)\n",
    "\n",
    "print(f\"Test F1 (clase=1): {f1_test:.4f}\")\n",
    "print(f\"Test Accuracy:     {acc_test:.4f}\")\n",
    "\n",
    "# -----------------------------------------------\n",
    "# 6. Top-10 i Top-15 importàncies\n",
    "# -----------------------------------------------\n",
    "top10 = agg_importances.head(10).index.tolist()\n",
    "top15 = agg_importances.head(15).index.tolist()\n",
    "print(\"Top-10 features:\", top10)\n",
    "print(\"Top-15 features:\", top15)\n",
    "\n",
    "# -----------------------------------------------\n",
    "# 7. Visualització de les Top-15 importàncies\n",
    "# -----------------------------------------------\n",
    "plt.figure(figsize=(10, 6))\n",
    "plt.bar(agg_importances.head(15).index, agg_importances.head(15).values)\n",
    "plt.xticks(rotation=45, ha=\"right\")\n",
    "plt.title(\"Top-15 Gini Importances\")\n",
    "plt.xlabel(\"Feature\")\n",
    "plt.ylabel(\"Importància (Gini)\")\n",
    "plt.tight_layout()\n",
    "plt.show()\n"
   ]
  },
  {
   "cell_type": "markdown",
   "id": "0b476077",
   "metadata": {},
   "source": [
    "### Rentrenament de models 10-15 millors features"
   ]
  },
  {
   "cell_type": "code",
   "execution_count": 88,
   "id": "c860cb2b",
   "metadata": {},
   "outputs": [
    {
     "name": "stdout",
     "output_type": "stream",
     "text": [
      "Top10                | Best CV: 0.6386 | Test F1(cl1): 0.4848 | Acc: 0.6288\n",
      "Top15                | Best CV: 0.6386 | Test F1(cl1): 0.5057 | Acc: 0.6201\n"
     ]
    }
   ],
   "source": [
    "\n",
    "# Recuperem el millor model i els transformers originals\n",
    "best_rf_model    = best_model  # de l’script anterior\n",
    "orig_preproc     = best_rf_model.named_steps[\"preprocessor\"]\n",
    "num_pipeline     = orig_preproc.named_transformers_[\"num\"]\n",
    "cat_pipeline     = orig_preproc.named_transformers_[\"cat\"]\n",
    "\n",
    "# xtraiem els paràmetres òptims per al RandomForest (sense prefix “clf__”)\n",
    "rf_params = {\n",
    "    key.replace(\"clf__\", \"\"): val\n",
    "    for key, val in gs.best_params_.items()\n",
    "}\n",
    "\n",
    "# Definim els dos conjunts de features\n",
    "feature_sets = {\n",
    "    \"Top10\": top10,   # llista de 10 noms de feature “base”\n",
    "    \"Top15\": top15    # llista de 15 noms de feature “base”\n",
    "}\n",
    "\n",
    "# Reentrenament i avaluació per a cada subset\n",
    "topk_results = []\n",
    "fi_models = {}\n",
    "\n",
    "for label, feats in feature_sets.items():\n",
    "    # Separem variables numèriques i categòriques del subset\n",
    "    num_feats = [f for f in feats if f in numerical_features]\n",
    "    cat_feats = [f for f in feats if f in categorical_features]\n",
    "\n",
    "    # Construïm un nou preprocessor que només treballi amb aquestes columnes\n",
    "    preproc_sub = ColumnTransformer([\n",
    "        (\"num\", num_pipeline, num_feats),\n",
    "        (\"cat\", cat_pipeline, cat_feats)\n",
    "    ], remainder=\"drop\")\n",
    "\n",
    "    # Pipeline amb SMOTE i RandomForest amb els paràmetres trobats\n",
    "    pipe_sub = ImbPipeline([\n",
    "        (\"preprocessor\", preproc_sub),\n",
    "        (\"smote\", SMOTE(random_state=42)),\n",
    "        (\"clf\", RandomForestClassifier(\n",
    "            class_weight=\"balanced\",\n",
    "            random_state=42,\n",
    "            n_jobs=-1,\n",
    "            **rf_params\n",
    "        ))\n",
    "    ])\n",
    "\n",
    "    # Fit i predict\n",
    "    pipe_sub.fit(X_train[feats], y_train)\n",
    "    y_pred = pipe_sub.predict(X_test[feats])\n",
    "\n",
    "    # Guardem el model\n",
    "    fi_models[label] = {\"RandomForest\": pipe_sub}\n",
    "    \n",
    "    report = classification_report(\n",
    "            y_test,\n",
    "            y_pred, # Fem un predict amb el millor model trobat i comparem\n",
    "            labels=[0, 1],\n",
    "            output_dict=True,\n",
    "            zero_division=0\n",
    "        )\n",
    "\n",
    "    topk_results.append({\n",
    "        \"Target\":                TARGET,\n",
    "        \"Experiment\":            f\"Top_{label}\",\n",
    "        \"Model\":                 model,\n",
    "        \"Best Params\":           gs.best_params_,\n",
    "        \"Best CV\":               gs.best_score_,\n",
    "        \"Test Precision (1)\":    report[\"1\"][\"precision\"],\n",
    "        \"Test Recall (1)\":       report[\"1\"][\"recall\"],\n",
    "        \"Test F1 (1)\":           report[\"1\"][\"f1-score\"],\n",
    "        \"Test F1 (macro global)\": f1_score(y_test, y_pred, average=\"macro\"),\n",
    "        \"Test Accuracy\":         report[\"accuracy\"],\n",
    "    })\n",
    "\n",
    "    print(f\"{label:20s} | Best CV: {gs.best_score_:.4f} | Test F1(cl1): {report[\"1\"][\"f1-score\"]:.4f} | Acc: {report[\"accuracy\"]:.4f}\")"
   ]
  },
  {
   "cell_type": "code",
   "execution_count": 36,
   "id": "ee2bbfc4",
   "metadata": {},
   "outputs": [
    {
     "data": {
      "text/html": [
       "<div>\n",
       "<style scoped>\n",
       "    .dataframe tbody tr th:only-of-type {\n",
       "        vertical-align: middle;\n",
       "    }\n",
       "\n",
       "    .dataframe tbody tr th {\n",
       "        vertical-align: top;\n",
       "    }\n",
       "\n",
       "    .dataframe thead th {\n",
       "        text-align: right;\n",
       "    }\n",
       "</style>\n",
       "<table border=\"1\" class=\"dataframe\">\n",
       "  <thead>\n",
       "    <tr style=\"text-align: right;\">\n",
       "      <th></th>\n",
       "      <th>Target</th>\n",
       "      <th>Experiment</th>\n",
       "      <th>Model</th>\n",
       "      <th>Best CV</th>\n",
       "      <th>Test F1 (1)</th>\n",
       "      <th>Test F1 (macro global)</th>\n",
       "      <th>Test Accuracy</th>\n",
       "    </tr>\n",
       "  </thead>\n",
       "  <tbody>\n",
       "    <tr>\n",
       "      <th>0</th>\n",
       "      <td>TIRED</td>\n",
       "      <td>Top_Top10</td>\n",
       "      <td>GradientBoosting</td>\n",
       "      <td>0.6386</td>\n",
       "      <td>0.4848</td>\n",
       "      <td>0.5559</td>\n",
       "      <td>0.6288</td>\n",
       "    </tr>\n",
       "    <tr>\n",
       "      <th>1</th>\n",
       "      <td>TIRED</td>\n",
       "      <td>Top_Top15</td>\n",
       "      <td>GradientBoosting</td>\n",
       "      <td>0.6386</td>\n",
       "      <td>0.5057</td>\n",
       "      <td>0.5559</td>\n",
       "      <td>0.6201</td>\n",
       "    </tr>\n",
       "  </tbody>\n",
       "</table>\n",
       "</div>"
      ],
      "text/plain": [
       "  Target Experiment             Model  Best CV  Test F1 (1)  \\\n",
       "0  TIRED  Top_Top10  GradientBoosting   0.6386       0.4848   \n",
       "1  TIRED  Top_Top15  GradientBoosting   0.6386       0.5057   \n",
       "\n",
       "   Test F1 (macro global)  Test Accuracy  \n",
       "0                  0.5559         0.6288  \n",
       "1                  0.5559         0.6201  "
      ]
     },
     "metadata": {},
     "output_type": "display_data"
    }
   ],
   "source": [
    "feature_importance_results_df = pd.DataFrame(topk_results)\n",
    "\n",
    "display(feature_importance_results_df[display_cols].round(4))"
   ]
  },
  {
   "cell_type": "markdown",
   "id": "ab945b58",
   "metadata": {},
   "source": [
    "### Permutation Importance"
   ]
  },
  {
   "cell_type": "code",
   "execution_count": 40,
   "id": "9a7e161f",
   "metadata": {},
   "outputs": [
    {
     "name": "stdout",
     "output_type": "stream",
     "text": [
      "=== Permutation importance ===\n",
      "\n",
      "Top-15 features (Permutation F1):\n"
     ]
    },
    {
     "data": {
      "text/html": [
       "<div>\n",
       "<style scoped>\n",
       "    .dataframe tbody tr th:only-of-type {\n",
       "        vertical-align: middle;\n",
       "    }\n",
       "\n",
       "    .dataframe tbody tr th {\n",
       "        vertical-align: top;\n",
       "    }\n",
       "\n",
       "    .dataframe thead th {\n",
       "        text-align: right;\n",
       "    }\n",
       "</style>\n",
       "<table border=\"1\" class=\"dataframe\">\n",
       "  <thead>\n",
       "    <tr style=\"text-align: right;\">\n",
       "      <th></th>\n",
       "      <th>importance</th>\n",
       "    </tr>\n",
       "  </thead>\n",
       "  <tbody>\n",
       "    <tr>\n",
       "      <th>bmi_tipo</th>\n",
       "      <td>0.024163</td>\n",
       "    </tr>\n",
       "    <tr>\n",
       "      <th>daily_temperature_variation</th>\n",
       "      <td>0.023872</td>\n",
       "    </tr>\n",
       "    <tr>\n",
       "      <th>bmi</th>\n",
       "      <td>0.020160</td>\n",
       "    </tr>\n",
       "    <tr>\n",
       "      <th>full_sleep_breathing_rate</th>\n",
       "      <td>0.018923</td>\n",
       "    </tr>\n",
       "    <tr>\n",
       "      <th>bpm</th>\n",
       "      <td>0.016084</td>\n",
       "    </tr>\n",
       "    <tr>\n",
       "      <th>sedentary_minutes</th>\n",
       "      <td>0.015429</td>\n",
       "    </tr>\n",
       "    <tr>\n",
       "      <th>gender</th>\n",
       "      <td>0.013173</td>\n",
       "    </tr>\n",
       "    <tr>\n",
       "      <th>steps</th>\n",
       "      <td>0.010844</td>\n",
       "    </tr>\n",
       "    <tr>\n",
       "      <th>resting_hr</th>\n",
       "      <td>0.010189</td>\n",
       "    </tr>\n",
       "    <tr>\n",
       "      <th>sleep_efficiency</th>\n",
       "      <td>0.009971</td>\n",
       "    </tr>\n",
       "    <tr>\n",
       "      <th>sleep_deep_ratio</th>\n",
       "      <td>0.009098</td>\n",
       "    </tr>\n",
       "    <tr>\n",
       "      <th>rmssd</th>\n",
       "      <td>0.008806</td>\n",
       "    </tr>\n",
       "    <tr>\n",
       "      <th>calories</th>\n",
       "      <td>0.006550</td>\n",
       "    </tr>\n",
       "    <tr>\n",
       "      <th>minutesAsleep</th>\n",
       "      <td>0.005895</td>\n",
       "    </tr>\n",
       "    <tr>\n",
       "      <th>nightly_temperature</th>\n",
       "      <td>0.005531</td>\n",
       "    </tr>\n",
       "  </tbody>\n",
       "</table>\n",
       "</div>"
      ],
      "text/plain": [
       "                             importance\n",
       "bmi_tipo                       0.024163\n",
       "daily_temperature_variation    0.023872\n",
       "bmi                            0.020160\n",
       "full_sleep_breathing_rate      0.018923\n",
       "bpm                            0.016084\n",
       "sedentary_minutes              0.015429\n",
       "gender                         0.013173\n",
       "steps                          0.010844\n",
       "resting_hr                     0.010189\n",
       "sleep_efficiency               0.009971\n",
       "sleep_deep_ratio               0.009098\n",
       "rmssd                          0.008806\n",
       "calories                       0.006550\n",
       "minutesAsleep                  0.005895\n",
       "nightly_temperature            0.005531"
      ]
     },
     "metadata": {},
     "output_type": "display_data"
    },
    {
     "data": {
      "image/png": "[encoded data removed]",
      "text/plain": [
       "<Figure size 1000x500 with 1 Axes>"
      ]
     },
     "metadata": {},
     "output_type": "display_data"
    }
   ],
   "source": [
    "# -----------------------------------------------\n",
    "# 1. Calcular permutation importance\n",
    "# -----------------------------------------------\n",
    "print(\"=== Permutation importance ===\")\n",
    "result = permutation_importance(\n",
    "    best_rf_model,      # el teu model entrenat per al sol target\n",
    "    X_test, y_test,\n",
    "    n_repeats=30,\n",
    "    n_jobs=-1,\n",
    "    random_state=42\n",
    ")\n",
    "\n",
    "# -----------------------------------------------\n",
    "# 2. Crear sèrie d’importàncies amb noms originals\n",
    "# -----------------------------------------------\n",
    "orig_features = X_test.columns.tolist()\n",
    "\n",
    "\n",
    "perm_importances = (\n",
    "    pd.Series(result.importances_mean, index=orig_features)\n",
    "      .sort_values(ascending=False)\n",
    ")\n",
    "\n",
    "# -----------------------------------------------\n",
    "# 3. Extreure Top-10 i Top-15\n",
    "# -----------------------------------------------\n",
    "perm_top_features = {\n",
    "    10: perm_importances.head(10).index.tolist(),\n",
    "    15: perm_importances.head(15).index.tolist()\n",
    "}\n",
    "\n",
    "# -----------------------------------------------\n",
    "# 4. Mostrar la taula i la gràfica Top-15\n",
    "# -----------------------------------------------\n",
    "print(\"\\nTop-15 features (Permutation F1):\")\n",
    "display(perm_importances.head(15).to_frame(\"importance\"))\n",
    "\n",
    "plt.figure(figsize=(10, 5))\n",
    "top15 = perm_importances.head(15)\n",
    "plt.bar(top15.index, top15.values)\n",
    "plt.title(\"Top-15 Permutation Importance\")\n",
    "plt.ylabel(\"Mean F1 (test)\")\n",
    "plt.xticks(rotation=45, ha=\"right\")\n",
    "plt.tight_layout()\n",
    "plt.show()\n"
   ]
  },
  {
   "cell_type": "markdown",
   "id": "3ca388e9",
   "metadata": {},
   "source": [
    "### Reentrenament Permutation importance"
   ]
  },
  {
   "cell_type": "code",
   "execution_count": 46,
   "id": "cb52b21d",
   "metadata": {},
   "outputs": [
    {
     "name": "stdout",
     "output_type": "stream",
     "text": [
      "Perm Top_10  Best CV: 0.6206 | Test F1(cl1): 0.5042 | Acc: 0.6135\n",
      "Perm Top_10  Best CV: 0.6272 | Test F1(cl1): 0.4809 | Acc: 0.6135\n",
      "Perm Top_10  Best CV: 0.6397 | Test F1(cl1): 0.5220 | Acc: 0.6681\n",
      "Perm Top_10  Best CV: 0.6163 | Test F1(cl1): 0.4479 | Acc: 0.6070\n",
      "Perm Top_15  Best CV: 0.6053 | Test F1(cl1): 0.4845 | Acc: 0.6004\n",
      "Perm Top_15  Best CV: 0.6217 | Test F1(cl1): 0.4958 | Acc: 0.6048\n",
      "Perm Top_15  Best CV: 0.6212 | Test F1(cl1): 0.5238 | Acc: 0.6507\n",
      "Perm Top_15  Best CV: 0.6081 | Test F1(cl1): 0.5015 | Acc: 0.6397\n"
     ]
    }
   ],
   "source": [
    "from sklearn.compose import ColumnTransformer\n",
    "from imblearn.pipeline import Pipeline as ImbPipeline\n",
    "from imblearn.over_sampling import SMOTE\n",
    "from sklearn.model_selection import GridSearchCV\n",
    "from sklearn.metrics import classification_report, f1_score\n",
    "\n",
    "\n",
    "# Resultats i models per a Top-k\n",
    "perm_topk_results = []\n",
    "perm_topk_models  = {}\n",
    "\n",
    "for k in [10, 15]:\n",
    "    sel_feats = perm_top_features[k]\n",
    "    num_sel   = [f for f in sel_feats if f in numerical_features]\n",
    "    cat_sel   = [f for f in sel_feats if f in categorical_features]\n",
    "\n",
    "    # --- pre-processador limitat als top-k ---\n",
    "    transformers = []\n",
    "    if num_sel:\n",
    "        transformers.append((\"num\", numeric_transformer, num_sel))\n",
    "    if cat_sel:\n",
    "        transformers.append((\"cat\", categorical_transformer, cat_sel))\n",
    "    preproc_top = ColumnTransformer(transformers, remainder=\"drop\")\n",
    "\n",
    "    # Guarda els models per a cada k\n",
    "    perm_topk_models[k] = {}\n",
    "\n",
    "    for model_name, classifier in CLASSIFIERS.items():\n",
    "        pipe = ImbPipeline([\n",
    "            (\"preprocessor\", preproc_top),\n",
    "            (\"smote\",        SMOTE(random_state=42)),\n",
    "            (\"classifier\",   classifier)\n",
    "        ])\n",
    "\n",
    "        gs = GridSearchCV(\n",
    "            pipe,\n",
    "            PARAM_GRIDS[model_name],\n",
    "            scoring=\"accuracy\",\n",
    "            cv=cv,\n",
    "            n_jobs=-1,\n",
    "            refit=True\n",
    "        )\n",
    "        # Entrena sobre les features seleccionades\n",
    "        gs.fit(X_train[sel_feats], y_train)\n",
    "\n",
    "        best_est = gs.best_estimator_\n",
    "        perm_topk_models[k][model_name] = best_est\n",
    "\n",
    "        # Predicció i informe\n",
    "        y_pred = best_est.predict(X_test[sel_feats])\n",
    "        report = classification_report(\n",
    "            y_test,\n",
    "            y_pred,\n",
    "            labels=[0, 1],\n",
    "            output_dict=True,\n",
    "            zero_division=0\n",
    "        )\n",
    "      \n",
    "        # Afegeix resultats amb les mateixes columnes de la referència\n",
    "        perm_topk_results.append({\n",
    "            \"Target\":                TARGET,\n",
    "            \"Experiment\":            f\"Perm_Top_{k}\",\n",
    "            \"Model\":                 model_name,\n",
    "            \"Best Params\":           gs.best_params_,\n",
    "            \"Best CV\":               gs.best_score_,\n",
    "            \"Test Precision (1)\":    report[\"1\"][\"precision\"],\n",
    "            \"Test Recall (1)\":       report[\"1\"][\"recall\"],\n",
    "            \"Test F1 (1)\":           report[\"1\"][\"f1-score\"],\n",
    "            \"Test F1 (macro global)\": f1_score(y_test, best_est.predict(X_test), average=\"macro\"),\n",
    "            \"Test Accuracy\":         report[\"accuracy\"],\n",
    "        })\n",
    "\n",
    "        print(f\"Perm Top_{k:2d}  Best CV: {gs.best_score_:.4f} | Test F1(cl1): {report[\"1\"][\"f1-score\"]:.4f} | Acc: {report[\"accuracy\"]:.4f}\")\n"
   ]
  },
  {
   "cell_type": "code",
   "execution_count": 47,
   "id": "067f10ec",
   "metadata": {},
   "outputs": [
    {
     "data": {
      "text/html": [
       "<div>\n",
       "<style scoped>\n",
       "    .dataframe tbody tr th:only-of-type {\n",
       "        vertical-align: middle;\n",
       "    }\n",
       "\n",
       "    .dataframe tbody tr th {\n",
       "        vertical-align: top;\n",
       "    }\n",
       "\n",
       "    .dataframe thead th {\n",
       "        text-align: right;\n",
       "    }\n",
       "</style>\n",
       "<table border=\"1\" class=\"dataframe\">\n",
       "  <thead>\n",
       "    <tr style=\"text-align: right;\">\n",
       "      <th></th>\n",
       "      <th>Target</th>\n",
       "      <th>Experiment</th>\n",
       "      <th>Model</th>\n",
       "      <th>Best CV</th>\n",
       "      <th>Test F1 (1)</th>\n",
       "      <th>Test F1 (macro global)</th>\n",
       "      <th>Test Accuracy</th>\n",
       "    </tr>\n",
       "  </thead>\n",
       "  <tbody>\n",
       "    <tr>\n",
       "      <th>0</th>\n",
       "      <td>TIRED</td>\n",
       "      <td>Perm_Top_10</td>\n",
       "      <td>MLP</td>\n",
       "      <td>0.6206</td>\n",
       "      <td>0.5042</td>\n",
       "      <td>0.5938</td>\n",
       "      <td>0.6135</td>\n",
       "    </tr>\n",
       "    <tr>\n",
       "      <th>1</th>\n",
       "      <td>TIRED</td>\n",
       "      <td>Perm_Top_10</td>\n",
       "      <td>SVM</td>\n",
       "      <td>0.6272</td>\n",
       "      <td>0.4809</td>\n",
       "      <td>0.5866</td>\n",
       "      <td>0.6135</td>\n",
       "    </tr>\n",
       "    <tr>\n",
       "      <th>2</th>\n",
       "      <td>TIRED</td>\n",
       "      <td>Perm_Top_10</td>\n",
       "      <td>RandomForest</td>\n",
       "      <td>0.6397</td>\n",
       "      <td>0.5220</td>\n",
       "      <td>0.6339</td>\n",
       "      <td>0.6681</td>\n",
       "    </tr>\n",
       "    <tr>\n",
       "      <th>3</th>\n",
       "      <td>TIRED</td>\n",
       "      <td>Perm_Top_10</td>\n",
       "      <td>GradientBoosting</td>\n",
       "      <td>0.6163</td>\n",
       "      <td>0.4479</td>\n",
       "      <td>0.5714</td>\n",
       "      <td>0.6070</td>\n",
       "    </tr>\n",
       "    <tr>\n",
       "      <th>4</th>\n",
       "      <td>TIRED</td>\n",
       "      <td>Perm_Top_15</td>\n",
       "      <td>MLP</td>\n",
       "      <td>0.6053</td>\n",
       "      <td>0.4845</td>\n",
       "      <td>0.5792</td>\n",
       "      <td>0.6004</td>\n",
       "    </tr>\n",
       "    <tr>\n",
       "      <th>5</th>\n",
       "      <td>TIRED</td>\n",
       "      <td>Perm_Top_15</td>\n",
       "      <td>SVM</td>\n",
       "      <td>0.6217</td>\n",
       "      <td>0.4958</td>\n",
       "      <td>0.5854</td>\n",
       "      <td>0.6048</td>\n",
       "    </tr>\n",
       "    <tr>\n",
       "      <th>6</th>\n",
       "      <td>TIRED</td>\n",
       "      <td>Perm_Top_15</td>\n",
       "      <td>RandomForest</td>\n",
       "      <td>0.6212</td>\n",
       "      <td>0.5238</td>\n",
       "      <td>0.6240</td>\n",
       "      <td>0.6507</td>\n",
       "    </tr>\n",
       "    <tr>\n",
       "      <th>7</th>\n",
       "      <td>TIRED</td>\n",
       "      <td>Perm_Top_15</td>\n",
       "      <td>GradientBoosting</td>\n",
       "      <td>0.6081</td>\n",
       "      <td>0.5015</td>\n",
       "      <td>0.6097</td>\n",
       "      <td>0.6397</td>\n",
       "    </tr>\n",
       "  </tbody>\n",
       "</table>\n",
       "</div>"
      ],
      "text/plain": [
       "  Target   Experiment             Model  Best CV  Test F1 (1)  \\\n",
       "0  TIRED  Perm_Top_10               MLP   0.6206       0.5042   \n",
       "1  TIRED  Perm_Top_10               SVM   0.6272       0.4809   \n",
       "2  TIRED  Perm_Top_10      RandomForest   0.6397       0.5220   \n",
       "3  TIRED  Perm_Top_10  GradientBoosting   0.6163       0.4479   \n",
       "4  TIRED  Perm_Top_15               MLP   0.6053       0.4845   \n",
       "5  TIRED  Perm_Top_15               SVM   0.6217       0.4958   \n",
       "6  TIRED  Perm_Top_15      RandomForest   0.6212       0.5238   \n",
       "7  TIRED  Perm_Top_15  GradientBoosting   0.6081       0.5015   \n",
       "\n",
       "   Test F1 (macro global)  Test Accuracy  \n",
       "0                  0.5938         0.6135  \n",
       "1                  0.5866         0.6135  \n",
       "2                  0.6339         0.6681  \n",
       "3                  0.5714         0.6070  \n",
       "4                  0.5792         0.6004  \n",
       "5                  0.5854         0.6048  \n",
       "6                  0.6240         0.6507  \n",
       "7                  0.6097         0.6397  "
      ]
     },
     "metadata": {},
     "output_type": "display_data"
    }
   ],
   "source": [
    "perm_topk_results_df = pd.DataFrame(perm_topk_results)\n",
    "display(perm_topk_results_df[display_cols].round(4))"
   ]
  },
  {
   "cell_type": "markdown",
   "id": "78c085d9",
   "metadata": {},
   "source": [
    "## EXPERIMENT 2: PCA\n"
   ]
  },
  {
   "cell_type": "markdown",
   "id": "d8849b34",
   "metadata": {},
   "source": [
    "Es realitza una anàlisi de components principals (PCA) per examinar com evolucionen els components més rellevants del conjunt de dades en termes de variància explicada acumulada, considerant els primers 5, 10, 15, 20 i 25 components"
   ]
  },
  {
   "cell_type": "code",
   "execution_count": 48,
   "id": "2f14c20d",
   "metadata": {},
   "outputs": [
    {
     "data": {
      "image/png": "[encoded data removed]",
      "text/plain": [
       "<Figure size 800x400 with 1 Axes>"
      ]
     },
     "metadata": {},
     "output_type": "display_data"
    }
   ],
   "source": [
    "# 1) Transformar X_train con tu preprocesador\n",
    "X_train_trans = preprocessor.fit_transform(X_train)\n",
    "\n",
    "\n",
    "# 2) Ajustar PCA con todos los componentes posibles\n",
    "pca = PCA(random_state=42)\n",
    "pca.fit(X_train_trans)\n",
    "\n",
    "# 3) Calcular la varianza explicada acumulada\n",
    "explained_cumsum = pca.explained_variance_ratio_.cumsum()*100\n",
    "\n",
    "# 4) Definir los puntos de interés y extraer sus valores\n",
    "ks = [5, 10, 15, 20, 25]\n",
    "cums = explained_cumsum[[k-1 for k in ks]]\n",
    "\n",
    "# 5) Dibujar la curva completa y señalar los ks elegidos\n",
    "plt.figure(figsize=(8, 4))\n",
    "plt.plot(\n",
    "    range(1, len(explained_cumsum) + 1),\n",
    "    explained_cumsum,\n",
    ")\n",
    "plt.scatter(ks, cums)\n",
    "plt.xlabel('Número de componentes')\n",
    "plt.ylabel('Varianza explicada acumulada')\n",
    "plt.title('Evolución de la varianza explicada según n_components')\n",
    "plt.grid(True)\n",
    "plt.tight_layout()\n",
    "plt.show()"
   ]
  },
  {
   "cell_type": "code",
   "execution_count": 49,
   "id": "7f5ef062",
   "metadata": {},
   "outputs": [
    {
     "data": {
      "image/png": "[encoded data removed]",
      "text/plain": [
       "<Figure size 640x480 with 1 Axes>"
      ]
     },
     "metadata": {},
     "output_type": "display_data"
    },
    {
     "data": {
      "image/png": "[encoded data removed]",
      "text/plain": [
       "<Figure size 640x480 with 1 Axes>"
      ]
     },
     "metadata": {},
     "output_type": "display_data"
    },
    {
     "data": {
      "image/png": "[encoded data removed]",
      "text/plain": [
       "<Figure size 640x480 with 1 Axes>"
      ]
     },
     "metadata": {},
     "output_type": "display_data"
    },
    {
     "data": {
      "image/png": "[encoded data removed]",
      "text/plain": [
       "<Figure size 640x480 with 1 Axes>"
      ]
     },
     "metadata": {},
     "output_type": "display_data"
    },
    {
     "data": {
      "image/png": "[encoded data removed]",
      "text/plain": [
       "<Figure size 640x480 with 1 Axes>"
      ]
     },
     "metadata": {},
     "output_type": "display_data"
    }
   ],
   "source": [
    "# 1) Nombres de las features resultantes\n",
    "pca_names = preprocessor.get_feature_names_out()\n",
    "\n",
    "# 2) Para cada k en [5,10,15,20,25], ajusta un PCA y extrae las importancias\n",
    "n_components_list = [5, 10, 15, 20, 25]\n",
    "for k in n_components_list:\n",
    "    # Ajusta PCA\n",
    "    pca = PCA(n_components=k, random_state=42)\n",
    "    pca.fit(X_train_trans)\n",
    "\n",
    "    # loadings: matriz (n_features, k)\n",
    "    loadings = pca.components_.T\n",
    "\n",
    "    # importancia = suma de cargas absolutas de cada feature en todos los componentes\n",
    "    importance = np.sum(np.abs(loadings), axis=1)\n",
    "\n",
    "    # crea DataFrame, ordena y toma top-k\n",
    "    df_imp = pd.DataFrame({\n",
    "        'feature':    pca_names,\n",
    "        'importance': importance\n",
    "    }).sort_values('importance', ascending=False).reset_index(drop=True)\n",
    "    topk = df_imp.head(k)\n",
    "\n",
    "    plt.figure()\n",
    "    plt.barh(topk['feature'][::-1], topk['importance'][::-1])\n",
    "    plt.xlabel('Importancia (suma de |cargas|)')\n",
    "    plt.title(f'Top {k} features según PCA')\n",
    "    plt.tight_layout()\n",
    "    plt.show()"
   ]
  },
  {
   "cell_type": "markdown",
   "id": "40b8467b",
   "metadata": {},
   "source": [
    "Aquests gràfics mostren, per cada valor de *k* (5, 10, 15, 20 i 25 components), quines variables original s’aporten més a l’espai de la PCA i, per tant, expliquen més variància del conjunt de dades.\n",
    "\n",
    "* **Components principals**: són noves variables creades com a combinacions lineals de les variables originals.\n",
    "* **Càrregues (loadings)**: cada component té un coeficient per a cada variable; aquell coeficient indica quant “pesa” la variable en aquest eix.\n",
    "* **Importància de la variable**: per a cada variable, sumem el valor absolut de les càrregues als primers *k* components. Una suma més alta vol dir que la variable contribueix de manera rellevant a la variació capturada per aquests *k* eixos.\n",
    "\n",
    "Així podem veure quines són les *k* variables que més pesen ens diu quins atributs són més informatius (i quins, en canvi, aporten informació redundant).\n",
    "Els tops *k* ajuden a identificar les característiques més representatives del dataset segons la PCA.\n"
   ]
  },
  {
   "cell_type": "code",
   "execution_count": 51,
   "id": "14564904",
   "metadata": {},
   "outputs": [
    {
     "name": "stdout",
     "output_type": "stream",
     "text": [
      "\n",
      "-- PCA - 5 components --\n",
      "MLP                  | Best CV: 0.4808 | Test F1(cl1): 0.4675 | Acc: 0.5524\n",
      "SVM                  | Best CV: 0.5009 | Test F1(cl1): 0.5290 | Acc: 0.5568\n",
      "RandomForest         | Best CV: 0.4717 | Test F1(cl1): 0.4132 | Acc: 0.5349\n",
      "GradientBoosting     | Best CV: 0.4740 | Test F1(cl1): 0.4348 | Acc: 0.5459\n",
      "\n",
      "-- PCA - 10 components --\n",
      "MLP                  | Best CV: 0.4854 | Test F1(cl1): 0.4959 | Acc: 0.6004\n",
      "SVM                  | Best CV: 0.4921 | Test F1(cl1): 0.5041 | Acc: 0.6004\n",
      "RandomForest         | Best CV: 0.4789 | Test F1(cl1): 0.5056 | Acc: 0.6114\n",
      "GradientBoosting     | Best CV: 0.4803 | Test F1(cl1): 0.4294 | Acc: 0.5590\n",
      "\n",
      "-- PCA - 15 components --\n",
      "MLP                  | Best CV: 0.4713 | Test F1(cl1): 0.4944 | Acc: 0.6026\n",
      "SVM                  | Best CV: 0.4833 | Test F1(cl1): 0.5027 | Acc: 0.5939\n",
      "RandomForest         | Best CV: 0.4667 | Test F1(cl1): 0.4958 | Acc: 0.6092\n",
      "GradientBoosting     | Best CV: 0.4700 | Test F1(cl1): 0.4828 | Acc: 0.5742\n",
      "\n",
      "-- PCA - 20 components --\n",
      "MLP                  | Best CV: 0.4830 | Test F1(cl1): 0.5096 | Acc: 0.6092\n",
      "SVM                  | Best CV: 0.4969 | Test F1(cl1): 0.5067 | Acc: 0.5961\n",
      "RandomForest         | Best CV: 0.4809 | Test F1(cl1): 0.4737 | Acc: 0.6070\n",
      "GradientBoosting     | Best CV: 0.4755 | Test F1(cl1): 0.4960 | Acc: 0.5917\n",
      "\n",
      "-- PCA - 25 components --\n",
      "MLP                  | Best CV: 0.4655 | Test F1(cl1): 0.4833 | Acc: 0.5939\n",
      "SVM                  | Best CV: 0.4841 | Test F1(cl1): 0.5042 | Acc: 0.6092\n",
      "RandomForest         | Best CV: 0.4913 | Test F1(cl1): 0.5056 | Acc: 0.6157\n",
      "GradientBoosting     | Best CV: 0.4989 | Test F1(cl1): 0.4848 | Acc: 0.5917\n"
     ]
    }
   ],
   "source": [
    "from sklearn.decomposition import PCA\n",
    "from sklearn.model_selection import GridSearchCV\n",
    "from sklearn.metrics import classification_report, f1_score\n",
    "from imblearn.pipeline import Pipeline as ImbPipeline\n",
    "from imblearn.over_sampling import SMOTE\n",
    "\n",
    "# 0) Defineix el teu nom de target si vols guardar-lo\n",
    "TARGET = \"el_teu_target\"\n",
    "\n",
    "# Guarda resultats i models\n",
    "pca_results = []\n",
    "pca_models = {}\n",
    "\n",
    "\n",
    "for k in n_components_list:\n",
    "    print(f\"\\n-- PCA - {k} components --\")\n",
    "    pca_models[k] = {}\n",
    "\n",
    "    for model, classifier in CLASSIFIERS.items():\n",
    "        # 1) Pipeline amb preprocessor, SMOTE, PCA i classificador\n",
    "        pipeline = ImbPipeline([\n",
    "            (\"preprocessor\", preprocessor),\n",
    "            (\"smote\",        SMOTE(random_state=42)),\n",
    "            (\"pca\",          PCA(n_components=k, random_state=42)),\n",
    "            (\"classifier\",   classifier)\n",
    "        ])\n",
    "\n",
    "        # 2) Grid search\n",
    "        gs = GridSearchCV(\n",
    "            pipeline,\n",
    "            PARAM_GRIDS[model],\n",
    "            scoring=f1_cls1,\n",
    "            cv=cv,\n",
    "            n_jobs=-1,\n",
    "            refit=True\n",
    "        )\n",
    "        gs.fit(X_train, y_train)\n",
    "\n",
    "        # Guarda el millor model\n",
    "        best_est = gs.best_estimator_\n",
    "        pca_models[k][model] = best_est\n",
    "\n",
    "        # 4) Avaluació al test\n",
    "        y_pred = best_est.predict(X_test)\n",
    "        report = classification_report(\n",
    "            y_test,\n",
    "            y_pred,\n",
    "            labels=[0, 1],\n",
    "            output_dict=True,\n",
    "            zero_division=0\n",
    "        )\n",
    "\n",
    "\n",
    "        # 5) Emmagatzema els resultats amb la mateixa estructura\n",
    "        pca_results.append({\n",
    "            \"Target\":                TARGET,\n",
    "            \"Model\":                 model,\n",
    "            \"Experiment\":            f\"PCA_{k}\",\n",
    "            \"Best Params\":           gs.best_params_,\n",
    "            \"Best CV\":  gs.best_score_,\n",
    "            \"Test Precision (1)\":    report[\"1\"][\"precision\"],\n",
    "            \"Test Recall (1)\":       report[\"1\"][\"recall\"],\n",
    "            \"Test F1 (1)\":           report[\"1\"][\"f1-score\"],\n",
    "            \"Test F1 (macro global)\": f1_score(y_test, y_pred, average=\"macro\"),\n",
    "            \"Test Accuracy\":         report[\"accuracy\"]\n",
    "        })\n",
    "\n",
    "        print(f\"{model:20s} | Best CV: {gs.best_score_:.4f} | Test F1(cl1): {report[\"1\"][\"f1-score\"]:.4f} | Acc: {report[\"accuracy\"]:.4f}\")\n"
   ]
  },
  {
   "cell_type": "code",
   "execution_count": 53,
   "id": "b4b76e34",
   "metadata": {},
   "outputs": [
    {
     "data": {
      "text/html": [
       "<div>\n",
       "<style scoped>\n",
       "    .dataframe tbody tr th:only-of-type {\n",
       "        vertical-align: middle;\n",
       "    }\n",
       "\n",
       "    .dataframe tbody tr th {\n",
       "        vertical-align: top;\n",
       "    }\n",
       "\n",
       "    .dataframe thead th {\n",
       "        text-align: right;\n",
       "    }\n",
       "</style>\n",
       "<table border=\"1\" class=\"dataframe\">\n",
       "  <thead>\n",
       "    <tr style=\"text-align: right;\">\n",
       "      <th></th>\n",
       "      <th>Target</th>\n",
       "      <th>Experiment</th>\n",
       "      <th>Model</th>\n",
       "      <th>Best CV F1 (clase 1)</th>\n",
       "      <th>Test F1 (1)</th>\n",
       "      <th>Test F1 (macro global)</th>\n",
       "      <th>Test Accuracy</th>\n",
       "    </tr>\n",
       "  </thead>\n",
       "  <tbody>\n",
       "    <tr>\n",
       "      <th>0</th>\n",
       "      <td>el_teu_target</td>\n",
       "      <td>PCA_5</td>\n",
       "      <td>MLP</td>\n",
       "      <td>0.4808</td>\n",
       "      <td>0.4675</td>\n",
       "      <td>0.5407</td>\n",
       "      <td>0.5524</td>\n",
       "    </tr>\n",
       "    <tr>\n",
       "      <th>1</th>\n",
       "      <td>el_teu_target</td>\n",
       "      <td>PCA_5</td>\n",
       "      <td>SVM</td>\n",
       "      <td>0.5009</td>\n",
       "      <td>0.5290</td>\n",
       "      <td>0.5552</td>\n",
       "      <td>0.5568</td>\n",
       "    </tr>\n",
       "    <tr>\n",
       "      <th>2</th>\n",
       "      <td>el_teu_target</td>\n",
       "      <td>PCA_5</td>\n",
       "      <td>RandomForest</td>\n",
       "      <td>0.4717</td>\n",
       "      <td>0.4132</td>\n",
       "      <td>0.5140</td>\n",
       "      <td>0.5349</td>\n",
       "    </tr>\n",
       "    <tr>\n",
       "      <th>3</th>\n",
       "      <td>el_teu_target</td>\n",
       "      <td>PCA_5</td>\n",
       "      <td>GradientBoosting</td>\n",
       "      <td>0.4740</td>\n",
       "      <td>0.4348</td>\n",
       "      <td>0.5276</td>\n",
       "      <td>0.5459</td>\n",
       "    </tr>\n",
       "    <tr>\n",
       "      <th>4</th>\n",
       "      <td>el_teu_target</td>\n",
       "      <td>PCA_10</td>\n",
       "      <td>MLP</td>\n",
       "      <td>0.4854</td>\n",
       "      <td>0.4959</td>\n",
       "      <td>0.5825</td>\n",
       "      <td>0.6004</td>\n",
       "    </tr>\n",
       "    <tr>\n",
       "      <th>5</th>\n",
       "      <td>el_teu_target</td>\n",
       "      <td>PCA_10</td>\n",
       "      <td>SVM</td>\n",
       "      <td>0.4921</td>\n",
       "      <td>0.5041</td>\n",
       "      <td>0.5848</td>\n",
       "      <td>0.6004</td>\n",
       "    </tr>\n",
       "    <tr>\n",
       "      <th>6</th>\n",
       "      <td>el_teu_target</td>\n",
       "      <td>PCA_10</td>\n",
       "      <td>RandomForest</td>\n",
       "      <td>0.4789</td>\n",
       "      <td>0.5056</td>\n",
       "      <td>0.5927</td>\n",
       "      <td>0.6114</td>\n",
       "    </tr>\n",
       "    <tr>\n",
       "      <th>7</th>\n",
       "      <td>el_teu_target</td>\n",
       "      <td>PCA_10</td>\n",
       "      <td>GradientBoosting</td>\n",
       "      <td>0.4803</td>\n",
       "      <td>0.4294</td>\n",
       "      <td>0.5350</td>\n",
       "      <td>0.5590</td>\n",
       "    </tr>\n",
       "    <tr>\n",
       "      <th>8</th>\n",
       "      <td>el_teu_target</td>\n",
       "      <td>PCA_15</td>\n",
       "      <td>MLP</td>\n",
       "      <td>0.4713</td>\n",
       "      <td>0.4944</td>\n",
       "      <td>0.5836</td>\n",
       "      <td>0.6026</td>\n",
       "    </tr>\n",
       "    <tr>\n",
       "      <th>9</th>\n",
       "      <td>el_teu_target</td>\n",
       "      <td>PCA_15</td>\n",
       "      <td>SVM</td>\n",
       "      <td>0.4833</td>\n",
       "      <td>0.5027</td>\n",
       "      <td>0.5798</td>\n",
       "      <td>0.5939</td>\n",
       "    </tr>\n",
       "    <tr>\n",
       "      <th>10</th>\n",
       "      <td>el_teu_target</td>\n",
       "      <td>PCA_15</td>\n",
       "      <td>RandomForest</td>\n",
       "      <td>0.4667</td>\n",
       "      <td>0.4958</td>\n",
       "      <td>0.5884</td>\n",
       "      <td>0.6092</td>\n",
       "    </tr>\n",
       "    <tr>\n",
       "      <th>11</th>\n",
       "      <td>el_teu_target</td>\n",
       "      <td>PCA_15</td>\n",
       "      <td>GradientBoosting</td>\n",
       "      <td>0.4700</td>\n",
       "      <td>0.4828</td>\n",
       "      <td>0.5605</td>\n",
       "      <td>0.5742</td>\n",
       "    </tr>\n",
       "    <tr>\n",
       "      <th>12</th>\n",
       "      <td>el_teu_target</td>\n",
       "      <td>PCA_20</td>\n",
       "      <td>MLP</td>\n",
       "      <td>0.4830</td>\n",
       "      <td>0.5096</td>\n",
       "      <td>0.5924</td>\n",
       "      <td>0.6092</td>\n",
       "    </tr>\n",
       "    <tr>\n",
       "      <th>13</th>\n",
       "      <td>el_teu_target</td>\n",
       "      <td>PCA_20</td>\n",
       "      <td>SVM</td>\n",
       "      <td>0.4969</td>\n",
       "      <td>0.5067</td>\n",
       "      <td>0.5824</td>\n",
       "      <td>0.5961</td>\n",
       "    </tr>\n",
       "    <tr>\n",
       "      <th>14</th>\n",
       "      <td>el_teu_target</td>\n",
       "      <td>PCA_20</td>\n",
       "      <td>RandomForest</td>\n",
       "      <td>0.4809</td>\n",
       "      <td>0.4737</td>\n",
       "      <td>0.5800</td>\n",
       "      <td>0.6070</td>\n",
       "    </tr>\n",
       "    <tr>\n",
       "      <th>15</th>\n",
       "      <td>el_teu_target</td>\n",
       "      <td>PCA_20</td>\n",
       "      <td>GradientBoosting</td>\n",
       "      <td>0.4755</td>\n",
       "      <td>0.4960</td>\n",
       "      <td>0.5764</td>\n",
       "      <td>0.5917</td>\n",
       "    </tr>\n",
       "    <tr>\n",
       "      <th>16</th>\n",
       "      <td>el_teu_target</td>\n",
       "      <td>PCA_25</td>\n",
       "      <td>MLP</td>\n",
       "      <td>0.4655</td>\n",
       "      <td>0.4833</td>\n",
       "      <td>0.5744</td>\n",
       "      <td>0.5939</td>\n",
       "    </tr>\n",
       "    <tr>\n",
       "      <th>17</th>\n",
       "      <td>el_teu_target</td>\n",
       "      <td>PCA_25</td>\n",
       "      <td>SVM</td>\n",
       "      <td>0.4841</td>\n",
       "      <td>0.5042</td>\n",
       "      <td>0.5908</td>\n",
       "      <td>0.6092</td>\n",
       "    </tr>\n",
       "    <tr>\n",
       "      <th>18</th>\n",
       "      <td>el_teu_target</td>\n",
       "      <td>PCA_25</td>\n",
       "      <td>RandomForest</td>\n",
       "      <td>0.4913</td>\n",
       "      <td>0.5056</td>\n",
       "      <td>0.5957</td>\n",
       "      <td>0.6157</td>\n",
       "    </tr>\n",
       "    <tr>\n",
       "      <th>19</th>\n",
       "      <td>el_teu_target</td>\n",
       "      <td>PCA_25</td>\n",
       "      <td>GradientBoosting</td>\n",
       "      <td>0.4989</td>\n",
       "      <td>0.4848</td>\n",
       "      <td>0.5733</td>\n",
       "      <td>0.5917</td>\n",
       "    </tr>\n",
       "  </tbody>\n",
       "</table>\n",
       "</div>"
      ],
      "text/plain": [
       "           Target Experiment             Model  Best CV F1 (clase 1)  \\\n",
       "0   el_teu_target      PCA_5               MLP                0.4808   \n",
       "1   el_teu_target      PCA_5               SVM                0.5009   \n",
       "2   el_teu_target      PCA_5      RandomForest                0.4717   \n",
       "3   el_teu_target      PCA_5  GradientBoosting                0.4740   \n",
       "4   el_teu_target     PCA_10               MLP                0.4854   \n",
       "5   el_teu_target     PCA_10               SVM                0.4921   \n",
       "6   el_teu_target     PCA_10      RandomForest                0.4789   \n",
       "7   el_teu_target     PCA_10  GradientBoosting                0.4803   \n",
       "8   el_teu_target     PCA_15               MLP                0.4713   \n",
       "9   el_teu_target     PCA_15               SVM                0.4833   \n",
       "10  el_teu_target     PCA_15      RandomForest                0.4667   \n",
       "11  el_teu_target     PCA_15  GradientBoosting                0.4700   \n",
       "12  el_teu_target     PCA_20               MLP                0.4830   \n",
       "13  el_teu_target     PCA_20               SVM                0.4969   \n",
       "14  el_teu_target     PCA_20      RandomForest                0.4809   \n",
       "15  el_teu_target     PCA_20  GradientBoosting                0.4755   \n",
       "16  el_teu_target     PCA_25               MLP                0.4655   \n",
       "17  el_teu_target     PCA_25               SVM                0.4841   \n",
       "18  el_teu_target     PCA_25      RandomForest                0.4913   \n",
       "19  el_teu_target     PCA_25  GradientBoosting                0.4989   \n",
       "\n",
       "    Test F1 (1)  Test F1 (macro global)  Test Accuracy  \n",
       "0        0.4675                  0.5407         0.5524  \n",
       "1        0.5290                  0.5552         0.5568  \n",
       "2        0.4132                  0.5140         0.5349  \n",
       "3        0.4348                  0.5276         0.5459  \n",
       "4        0.4959                  0.5825         0.6004  \n",
       "5        0.5041                  0.5848         0.6004  \n",
       "6        0.5056                  0.5927         0.6114  \n",
       "7        0.4294                  0.5350         0.5590  \n",
       "8        0.4944                  0.5836         0.6026  \n",
       "9        0.5027                  0.5798         0.5939  \n",
       "10       0.4958                  0.5884         0.6092  \n",
       "11       0.4828                  0.5605         0.5742  \n",
       "12       0.5096                  0.5924         0.6092  \n",
       "13       0.5067                  0.5824         0.5961  \n",
       "14       0.4737                  0.5800         0.6070  \n",
       "15       0.4960                  0.5764         0.5917  \n",
       "16       0.4833                  0.5744         0.5939  \n",
       "17       0.5042                  0.5908         0.6092  \n",
       "18       0.5056                  0.5957         0.6157  \n",
       "19       0.4848                  0.5733         0.5917  "
      ]
     },
     "metadata": {},
     "output_type": "display_data"
    }
   ],
   "source": [
    "pca_results_df = pd.DataFrame(pca_results)\n",
    "display(pca_results_df[display_cols].round(4))"
   ]
  },
  {
   "cell_type": "markdown",
   "id": "c940c97d",
   "metadata": {},
   "source": [
    "## EXPERIMENT 3: KNN Imputation"
   ]
  },
  {
   "cell_type": "code",
   "execution_count": 56,
   "id": "731e50ee",
   "metadata": {},
   "outputs": [
    {
     "name": "stdout",
     "output_type": "stream",
     "text": [
      "MLP                  | Best CV: 0.4669 | Test F1(cl1): 0.5013 | Acc: 0.5961\n",
      "SVM                  | Best CV: 0.4882 | Test F1(cl1): 0.5296 | Acc: 0.6004\n",
      "RandomForest         | Best CV: 0.4807 | Test F1(cl1): 0.4970 | Acc: 0.6288\n",
      "GradientBoosting     | Best CV: 0.4752 | Test F1(cl1): 0.4812 | Acc: 0.6092\n"
     ]
    }
   ],
   "source": [
    "from sklearn.pipeline import Pipeline\n",
    "from sklearn.compose import ColumnTransformer\n",
    "from imblearn.pipeline import Pipeline as ImbPipeline\n",
    "from imblearn.over_sampling import SMOTE\n",
    "from sklearn.impute import KNNImputer, SimpleImputer\n",
    "from sklearn.preprocessing import StandardScaler, OneHotEncoder\n",
    "from sklearn.model_selection import GridSearchCV\n",
    "from sklearn.metrics import classification_report, f1_score\n",
    "\n",
    "# 1) Transformers amb KNN per a numèriques i categòriques\n",
    "knn_numeric_transformer = Pipeline([\n",
    "    (\"imputer\", KNNImputer(n_neighbors=5)),\n",
    "    (\"scaler\",  StandardScaler())\n",
    "])\n",
    "\n",
    "knn_categorical_transformer = Pipeline([\n",
    "    (\"imputer\", SimpleImputer(strategy=\"most_frequent\")),\n",
    "    (\"onehot\",  OneHotEncoder(handle_unknown=\"ignore\", sparse_output=False))\n",
    "])\n",
    "\n",
    "preprocessor_knn = ColumnTransformer([\n",
    "    (\"num\", knn_numeric_transformer, numerical_features),\n",
    "    (\"cat\", knn_categorical_transformer, categorical_features)\n",
    "], remainder=\"drop\")\n",
    "\n",
    "# 2) Entrenament amb KNN Imputation\n",
    "knn_results = []                \n",
    "knn_models  = {}                    \n",
    "\n",
    "    \n",
    "for model_name, classifier in CLASSIFIERS.items():\n",
    "    pipe = ImbPipeline([\n",
    "        (\"preprocessor\", preprocessor_knn),\n",
    "        (\"smote\",        SMOTE(random_state=42)),\n",
    "        (\"classifier\",   classifier)\n",
    "    ])\n",
    "    \n",
    "    gs = GridSearchCV(\n",
    "        pipe,\n",
    "        PARAM_GRIDS[model_name],\n",
    "        scoring=f1_cls1,\n",
    "        cv=cv,\n",
    "        n_jobs=-1,\n",
    "        refit=True\n",
    "    )\n",
    "    gs.fit(X_train, y_train)\n",
    "    \n",
    "    best_est = gs.best_estimator_\n",
    "    knn_models[model_name] = best_est\n",
    "    \n",
    "    y_pred = best_est.predict(X_test)\n",
    "    report = classification_report(\n",
    "        y_test, y_pred,\n",
    "        labels=[0, 1],\n",
    "        output_dict=True,\n",
    "        zero_division=0\n",
    "    )\n",
    "    \n",
    "    knn_results.append({\n",
    "        \"Target\":                TARGET,\n",
    "        \"Experiment\":            \"KNN_Imputation\",\n",
    "        \"Model\":                 model_name,\n",
    "        \"Best Params\":           gs.best_params_,\n",
    "        \"Best CV\":               gs.best_score_,\n",
    "        \"Test Precision (1)\":    report[\"1\"][\"precision\"],\n",
    "        \"Test Recall (1)\":       report[\"1\"][\"recall\"],\n",
    "        \"Test F1 (1)\":           report[\"1\"][\"f1-score\"],\n",
    "        \"Test F1 (macro global)\": f1_score(y_test, y_pred, average=\"macro\"),\n",
    "        \"Test Accuracy\":         report[\"accuracy\"],\n",
    "    })\n",
    "    \n",
    "    print(f\"{model_name:20s} | Best CV: {gs.best_score_:.4f} | Test F1(cl1): {report['1']['f1-score']:.4f} | Acc: {report[\"accuracy\"]:.4f}\")\n"
   ]
  },
  {
   "cell_type": "code",
   "execution_count": 58,
   "id": "6ca4b600",
   "metadata": {},
   "outputs": [
    {
     "data": {
      "text/html": [
       "<div>\n",
       "<style scoped>\n",
       "    .dataframe tbody tr th:only-of-type {\n",
       "        vertical-align: middle;\n",
       "    }\n",
       "\n",
       "    .dataframe tbody tr th {\n",
       "        vertical-align: top;\n",
       "    }\n",
       "\n",
       "    .dataframe thead th {\n",
       "        text-align: right;\n",
       "    }\n",
       "</style>\n",
       "<table border=\"1\" class=\"dataframe\">\n",
       "  <thead>\n",
       "    <tr style=\"text-align: right;\">\n",
       "      <th></th>\n",
       "      <th>Target</th>\n",
       "      <th>Experiment</th>\n",
       "      <th>Model</th>\n",
       "      <th>Best CV</th>\n",
       "      <th>Test F1 (1)</th>\n",
       "      <th>Test F1 (macro global)</th>\n",
       "      <th>Test Accuracy</th>\n",
       "    </tr>\n",
       "  </thead>\n",
       "  <tbody>\n",
       "    <tr>\n",
       "      <th>0</th>\n",
       "      <td>el_teu_target</td>\n",
       "      <td>KNN_Imputation</td>\n",
       "      <td>MLP</td>\n",
       "      <td>0.4669</td>\n",
       "      <td>0.5013</td>\n",
       "      <td>0.5809</td>\n",
       "      <td>0.5961</td>\n",
       "    </tr>\n",
       "    <tr>\n",
       "      <th>1</th>\n",
       "      <td>el_teu_target</td>\n",
       "      <td>KNN_Imputation</td>\n",
       "      <td>SVM</td>\n",
       "      <td>0.4882</td>\n",
       "      <td>0.5296</td>\n",
       "      <td>0.5912</td>\n",
       "      <td>0.6004</td>\n",
       "    </tr>\n",
       "    <tr>\n",
       "      <th>2</th>\n",
       "      <td>el_teu_target</td>\n",
       "      <td>KNN_Imputation</td>\n",
       "      <td>RandomForest</td>\n",
       "      <td>0.4807</td>\n",
       "      <td>0.4970</td>\n",
       "      <td>0.6015</td>\n",
       "      <td>0.6288</td>\n",
       "    </tr>\n",
       "    <tr>\n",
       "      <th>3</th>\n",
       "      <td>el_teu_target</td>\n",
       "      <td>KNN_Imputation</td>\n",
       "      <td>GradientBoosting</td>\n",
       "      <td>0.4752</td>\n",
       "      <td>0.4812</td>\n",
       "      <td>0.5838</td>\n",
       "      <td>0.6092</td>\n",
       "    </tr>\n",
       "  </tbody>\n",
       "</table>\n",
       "</div>"
      ],
      "text/plain": [
       "          Target      Experiment             Model  Best CV  Test F1 (1)  \\\n",
       "0  el_teu_target  KNN_Imputation               MLP   0.4669       0.5013   \n",
       "1  el_teu_target  KNN_Imputation               SVM   0.4882       0.5296   \n",
       "2  el_teu_target  KNN_Imputation      RandomForest   0.4807       0.4970   \n",
       "3  el_teu_target  KNN_Imputation  GradientBoosting   0.4752       0.4812   \n",
       "\n",
       "   Test F1 (macro global)  Test Accuracy  \n",
       "0                  0.5809         0.5961  \n",
       "1                  0.5912         0.6004  \n",
       "2                  0.6015         0.6288  \n",
       "3                  0.5838         0.6092  "
      ]
     },
     "metadata": {},
     "output_type": "display_data"
    }
   ],
   "source": [
    "# 3) DataFrame resum\n",
    "knn_df = pd.DataFrame(knn_results)\n",
    "\n",
    "display(knn_df[display_cols].round(4))"
   ]
  },
  {
   "cell_type": "markdown",
   "id": "1c1ac39c",
   "metadata": {},
   "source": [
    "## EXPERIMENT 4: Target Row augmententation"
   ]
  },
  {
   "cell_type": "code",
   "execution_count": 62,
   "id": "efefa2ca",
   "metadata": {},
   "outputs": [
    {
     "name": "stdout",
     "output_type": "stream",
     "text": [
      "Shape of features with missing target: (5120, 23)\n",
      "\n",
      "Generant pseudo-labels per a TIRED …\n",
      "  5120 pseudo-labels generades amb RandomForest\n",
      "Train augmentat: (6952, 24)\n",
      "\n",
      "=== Retraining · MLP sobre dades augmentades ===\n",
      "MLP                  | Best CV: 0.7121 | Test F1(cl1): 0.5165 | Acc: 0.6157\n",
      "\n",
      "=== Retraining · SVM sobre dades augmentades ===\n",
      "SVM                  | Best CV: 0.7288 | Test F1(cl1): 0.5102 | Acc: 0.5808\n",
      "\n",
      "=== Retraining · RandomForest sobre dades augmentades ===\n",
      "RandomForest         | Best CV: 0.7507 | Test F1(cl1): 0.4866 | Acc: 0.6223\n",
      "\n",
      "=== Retraining · GradientBoosting sobre dades augmentades ===\n",
      "GradientBoosting     | Best CV: 0.7401 | Test F1(cl1): 0.4458 | Acc: 0.5983\n"
     ]
    }
   ],
   "source": [
    "from imblearn.pipeline import Pipeline as ImbPipeline\n",
    "from imblearn.over_sampling import SMOTE\n",
    "from sklearn.model_selection import GridSearchCV\n",
    "from sklearn.metrics import classification_report, f1_score\n",
    "import pandas as pd\n",
    "\n",
    "# ------------------------------------------------------------------\n",
    "# 0) Preparació de les dades amb missings pel sol target\n",
    "# ------------------------------------------------------------------\n",
    "df_missing = df_null_targets.copy()\n",
    "X_missing = df_missing.drop(columns=[TARGET])\n",
    "print(\"Shape of features with missing target:\", X_missing.shape)\n",
    "\n",
    "# ------------------------------------------------------------------\n",
    "# 1) Generació de pseudo-labels amb el millor model KNN\n",
    "# ------------------------------------------------------------------\n",
    "print(f\"\\nGenerant pseudo-labels per a {TARGET} …\")\n",
    "best_knn_row = (\n",
    "    knn_df.sort_values(\"Test Accuracy\", ascending=False).head(1)\n",
    ")\n",
    "\n",
    "best_knn_model_name = best_knn_row[\"Model\"].iloc[0]\n",
    "best_knn_model = knn_models[best_knn_model_name]\n",
    "pseudo_labels = best_knn_model.predict(X_missing)\n",
    "print(f\"  {len(pseudo_labels)} pseudo-labels generades amb {best_knn_model_name}\")\n",
    "\n",
    "# ------------------------------------------------------------------\n",
    "# 2) Concatena dades originals + pseudo-labels i prepara re-entrenament\n",
    "# ------------------------------------------------------------------\n",
    "X_train_aug = pd.concat([X_train, X_missing], ignore_index=True)\n",
    "y_train_aug = pd.concat([y_train, pd.Series(pseudo_labels)], ignore_index=True)\n",
    "print(\"Train augmentat:\", X_train_aug.shape)\n",
    "\n",
    "# ------------------------------------------------------------------\n",
    "# 3) Retraining sobre dades augmentades\n",
    "# ------------------------------------------------------------------\n",
    "target_aug_results = []\n",
    "target_aug_models  = {}\n",
    "\n",
    "for model_name, clf in CLASSIFIERS.items():\n",
    "    print(f\"\\n=== Retraining · {model_name} sobre dades augmentades ===\")\n",
    "    pipe = ImbPipeline([\n",
    "        (\"preprocessor\", preprocessor_knn),  # mateix imputador KNN + OHE\n",
    "        (\"smote\",        SMOTE(random_state=42)),\n",
    "        (\"classifier\",   clf)\n",
    "    ])\n",
    "\n",
    "    gs = GridSearchCV(\n",
    "        pipe,\n",
    "        PARAM_GRIDS[model_name],\n",
    "        scoring=f1_cls1,\n",
    "        cv=cv,\n",
    "        n_jobs=-1,\n",
    "        refit=True\n",
    "    )\n",
    "    gs.fit(X_train_aug, y_train_aug)\n",
    "\n",
    "    best_est = gs.best_estimator_\n",
    "    target_aug_models[model_name] = best_est\n",
    "\n",
    "    y_pred    = best_est.predict(X_test)\n",
    "    report    = classification_report(\n",
    "        y_test, y_pred,\n",
    "        labels=[0, 1],\n",
    "        output_dict=True,\n",
    "        zero_division=0\n",
    "    )\n",
    "    macro_f1  = f1_score(y_test, y_pred, average=\"macro\")\n",
    "    test_acc  = report[\"accuracy\"]\n",
    "\n",
    "    target_aug_results.append({\n",
    "        \"Target\":                TARGET,\n",
    "        \"Experiment\":            \"Target_Augmentation\",\n",
    "        \"Model\":                 model_name,\n",
    "        \"Best Params\":           gs.best_params_,\n",
    "        \"Best CV\":               gs.best_score_,\n",
    "        \"Test Precision (1)\":    report[\"1\"][\"precision\"],\n",
    "        \"Test Recall (1)\":       report[\"1\"][\"recall\"],\n",
    "        \"Test F1 (1)\":           report[\"1\"][\"f1-score\"],\n",
    "        \"Test F1 (macro global)\": macro_f1,\n",
    "        \"Test Accuracy\":         test_acc,\n",
    "    })\n",
    "\n",
    "    print(f\"{model_name:20s} | Best CV: {gs.best_score_:.4f} | Test F1(cl1): {report['1']['f1-score']:.4f} | Acc: {test_acc:.4f}\")\n"
   ]
  },
  {
   "cell_type": "code",
   "execution_count": 63,
   "id": "01f59c2f",
   "metadata": {},
   "outputs": [
    {
     "data": {
      "text/html": [
       "<div>\n",
       "<style scoped>\n",
       "    .dataframe tbody tr th:only-of-type {\n",
       "        vertical-align: middle;\n",
       "    }\n",
       "\n",
       "    .dataframe tbody tr th {\n",
       "        vertical-align: top;\n",
       "    }\n",
       "\n",
       "    .dataframe thead th {\n",
       "        text-align: right;\n",
       "    }\n",
       "</style>\n",
       "<table border=\"1\" class=\"dataframe\">\n",
       "  <thead>\n",
       "    <tr style=\"text-align: right;\">\n",
       "      <th></th>\n",
       "      <th>Target</th>\n",
       "      <th>Experiment</th>\n",
       "      <th>Model</th>\n",
       "      <th>Best CV</th>\n",
       "      <th>Test F1 (1)</th>\n",
       "      <th>Test F1 (macro global)</th>\n",
       "      <th>Test Accuracy</th>\n",
       "    </tr>\n",
       "  </thead>\n",
       "  <tbody>\n",
       "    <tr>\n",
       "      <th>0</th>\n",
       "      <td>TIRED</td>\n",
       "      <td>Target_Augmentation</td>\n",
       "      <td>MLP</td>\n",
       "      <td>0.7121</td>\n",
       "      <td>0.5165</td>\n",
       "      <td>0.5988</td>\n",
       "      <td>0.6157</td>\n",
       "    </tr>\n",
       "    <tr>\n",
       "      <th>1</th>\n",
       "      <td>TIRED</td>\n",
       "      <td>Target_Augmentation</td>\n",
       "      <td>SVM</td>\n",
       "      <td>0.7288</td>\n",
       "      <td>0.5102</td>\n",
       "      <td>0.5719</td>\n",
       "      <td>0.5808</td>\n",
       "    </tr>\n",
       "    <tr>\n",
       "      <th>2</th>\n",
       "      <td>TIRED</td>\n",
       "      <td>Target_Augmentation</td>\n",
       "      <td>RandomForest</td>\n",
       "      <td>0.7507</td>\n",
       "      <td>0.4866</td>\n",
       "      <td>0.5939</td>\n",
       "      <td>0.6223</td>\n",
       "    </tr>\n",
       "    <tr>\n",
       "      <th>3</th>\n",
       "      <td>TIRED</td>\n",
       "      <td>Target_Augmentation</td>\n",
       "      <td>GradientBoosting</td>\n",
       "      <td>0.7401</td>\n",
       "      <td>0.4458</td>\n",
       "      <td>0.5654</td>\n",
       "      <td>0.5983</td>\n",
       "    </tr>\n",
       "  </tbody>\n",
       "</table>\n",
       "</div>"
      ],
      "text/plain": [
       "  Target           Experiment             Model  Best CV  Test F1 (1)  \\\n",
       "0  TIRED  Target_Augmentation               MLP   0.7121       0.5165   \n",
       "1  TIRED  Target_Augmentation               SVM   0.7288       0.5102   \n",
       "2  TIRED  Target_Augmentation      RandomForest   0.7507       0.4866   \n",
       "3  TIRED  Target_Augmentation  GradientBoosting   0.7401       0.4458   \n",
       "\n",
       "   Test F1 (macro global)  Test Accuracy  \n",
       "0                  0.5988         0.6157  \n",
       "1                  0.5719         0.5808  \n",
       "2                  0.5939         0.6223  \n",
       "3                  0.5654         0.5983  "
      ]
     },
     "metadata": {},
     "output_type": "display_data"
    }
   ],
   "source": [
    "# ------------------------------------------------------------------\n",
    "# 3) DataFrame resum final\n",
    "# ------------------------------------------------------------------\n",
    "aug_df = pd.DataFrame(target_aug_results)\n",
    "display(aug_df[display_cols].round(4))\n",
    "\n"
   ]
  },
  {
   "cell_type": "markdown",
   "id": "0acd681e",
   "metadata": {},
   "source": [
    "## Anàlisi de resultats"
   ]
  },
  {
   "cell_type": "code",
   "execution_count": 93,
   "id": "8d292891",
   "metadata": {},
   "outputs": [
    {
     "name": "stdout",
     "output_type": "stream",
     "text": [
      "\n",
      "Combined results from all experiments.\n",
      "\n",
      "--- Overall Performance Analysis (Sorted by Test F1-Macro) ---\n",
      "\n",
      "--- Target: TIRED ---\n"
     ]
    },
    {
     "data": {
      "text/html": [
       "<div>\n",
       "<style scoped>\n",
       "    .dataframe tbody tr th:only-of-type {\n",
       "        vertical-align: middle;\n",
       "    }\n",
       "\n",
       "    .dataframe tbody tr th {\n",
       "        vertical-align: top;\n",
       "    }\n",
       "\n",
       "    .dataframe thead th {\n",
       "        text-align: right;\n",
       "    }\n",
       "</style>\n",
       "<table border=\"1\" class=\"dataframe\">\n",
       "  <thead>\n",
       "    <tr style=\"text-align: right;\">\n",
       "      <th></th>\n",
       "      <th>Target</th>\n",
       "      <th>Experiment</th>\n",
       "      <th>Model</th>\n",
       "      <th>Test Accuracy</th>\n",
       "      <th>Test F1 (1)</th>\n",
       "      <th>Test F1 (macro global)</th>\n",
       "      <th>Best Params</th>\n",
       "    </tr>\n",
       "  </thead>\n",
       "  <tbody>\n",
       "    <tr>\n",
       "      <th>0</th>\n",
       "      <td>TIRED</td>\n",
       "      <td>Perm_Top_10</td>\n",
       "      <td>RandomForest</td>\n",
       "      <td>0.6681</td>\n",
       "      <td>0.5220</td>\n",
       "      <td>0.6339</td>\n",
       "      <td>{'classifier__class_weight': 'balanced', 'clas...</td>\n",
       "    </tr>\n",
       "    <tr>\n",
       "      <th>1</th>\n",
       "      <td>TIRED</td>\n",
       "      <td>Perm_Top_15</td>\n",
       "      <td>RandomForest</td>\n",
       "      <td>0.6507</td>\n",
       "      <td>0.5238</td>\n",
       "      <td>0.6240</td>\n",
       "      <td>{'classifier__class_weight': 'balanced_subsamp...</td>\n",
       "    </tr>\n",
       "    <tr>\n",
       "      <th>2</th>\n",
       "      <td>TIRED</td>\n",
       "      <td>Perm_Top_15</td>\n",
       "      <td>GradientBoosting</td>\n",
       "      <td>0.6397</td>\n",
       "      <td>0.5015</td>\n",
       "      <td>0.6097</td>\n",
       "      <td>{'classifier__learning_rate': 0.1, 'classifier...</td>\n",
       "    </tr>\n",
       "    <tr>\n",
       "      <th>3</th>\n",
       "      <td>TIRED</td>\n",
       "      <td>Entrenament basic</td>\n",
       "      <td>RandomForest</td>\n",
       "      <td>0.6310</td>\n",
       "      <td>0.4863</td>\n",
       "      <td>0.5992</td>\n",
       "      <td>{'classifier__class_weight': 'balanced', 'clas...</td>\n",
       "    </tr>\n",
       "    <tr>\n",
       "      <th>4</th>\n",
       "      <td>TIRED</td>\n",
       "      <td>Top_Top10</td>\n",
       "      <td>GradientBoosting</td>\n",
       "      <td>0.6288</td>\n",
       "      <td>0.4848</td>\n",
       "      <td>0.5559</td>\n",
       "      <td>{'clf__max_depth': 15, 'clf__min_samples_leaf'...</td>\n",
       "    </tr>\n",
       "  </tbody>\n",
       "</table>\n",
       "</div>"
      ],
      "text/plain": [
       "  Target         Experiment             Model  Test Accuracy  Test F1 (1)  \\\n",
       "0  TIRED        Perm_Top_10      RandomForest         0.6681       0.5220   \n",
       "1  TIRED        Perm_Top_15      RandomForest         0.6507       0.5238   \n",
       "2  TIRED        Perm_Top_15  GradientBoosting         0.6397       0.5015   \n",
       "3  TIRED  Entrenament basic      RandomForest         0.6310       0.4863   \n",
       "4  TIRED          Top_Top10  GradientBoosting         0.6288       0.4848   \n",
       "\n",
       "   Test F1 (macro global)                                        Best Params  \n",
       "0                  0.6339  {'classifier__class_weight': 'balanced', 'clas...  \n",
       "1                  0.6240  {'classifier__class_weight': 'balanced_subsamp...  \n",
       "2                  0.6097  {'classifier__learning_rate': 0.1, 'classifier...  \n",
       "3                  0.5992  {'classifier__class_weight': 'balanced', 'clas...  \n",
       "4                  0.5559  {'clf__max_depth': 15, 'clf__min_samples_leaf'...  "
      ]
     },
     "metadata": {},
     "output_type": "display_data"
    }
   ],
   "source": [
    "# --- Results Compilation ---\n",
    "all_results_dfs = [base_results_df]\n",
    "if 'feature_importance_results_df' in locals() and not feature_importance_results_df.empty: \n",
    "    all_results_dfs.append(feature_importance_results_df)\n",
    "\n",
    "if 'perm_topk_results_df' in locals() and not perm_topk_results_df.empty: \n",
    "    all_results_dfs.append(perm_topk_results_df)\n",
    "\n",
    "if 'pca_results_df' in locals() and not pca_results_df.empty: \n",
    "    all_results_dfs.append(pca_results_df)\n",
    "\n",
    "if 'knn_imputation_results_df' in locals() and not knn_df.empty: \n",
    "    all_results_dfs.append(knn_df)\n",
    "\n",
    "if 'target_augmentation_results_df' in locals() and not aug_df.empty: \n",
    "    all_results_dfs.append(aug_df)\n",
    "\n",
    "if len(all_results_dfs) > 1:\n",
    "    combined_results_df = pd.concat(all_results_dfs, ignore_index=True)\n",
    "    print(\"\\nCombined results from all experiments.\")\n",
    "else:\n",
    "    print(\"\\nOnly baseline results available.\")\n",
    "    combined_results_df = base_results_df\n",
    "\n",
    "final_cols = [\"Target\", \"Experiment\", \"Model\", \"Test Accuracy\",\"Test F1 (1)\", \"Test F1 (macro global)\",\"Best Params\"]\n",
    " \n",
    "combined_results_df = combined_results_df[final_cols]\n",
    "\n",
    "# --- Analysis ---\n",
    "print(\"\\n--- Overall Performance Analysis (Sorted by Test F1-Macro) ---\")\n",
    "combined_results_sorted = combined_results_df.sort_values(by=[\"Test Accuracy\"], ascending=[False]).reset_index(drop=True)\n",
    "\n",
    "\n",
    "print(f\"\\n--- Target: {TARGET} ---\")\n",
    "display(combined_results_sorted[final_cols].head().round(4))"
   ]
  },
  {
   "cell_type": "code",
   "execution_count": 97,
   "id": "ca32b6ef",
   "metadata": {},
   "outputs": [
    {
     "name": "stdout",
     "output_type": "stream",
     "text": [
      "\n",
      "Top 5 models per a TIRED segons Test Accuracy:\n",
      "\n"
     ]
    },
    {
     "data": {
      "text/html": [
       "<div>\n",
       "<style scoped>\n",
       "    .dataframe tbody tr th:only-of-type {\n",
       "        vertical-align: middle;\n",
       "    }\n",
       "\n",
       "    .dataframe tbody tr th {\n",
       "        vertical-align: top;\n",
       "    }\n",
       "\n",
       "    .dataframe thead th {\n",
       "        text-align: right;\n",
       "    }\n",
       "</style>\n",
       "<table border=\"1\" class=\"dataframe\">\n",
       "  <thead>\n",
       "    <tr style=\"text-align: right;\">\n",
       "      <th></th>\n",
       "      <th>Model</th>\n",
       "      <th>Test Accuracy</th>\n",
       "      <th>Test F1 (1)</th>\n",
       "    </tr>\n",
       "  </thead>\n",
       "  <tbody>\n",
       "    <tr>\n",
       "      <th>0</th>\n",
       "      <td>RandomForest</td>\n",
       "      <td>0.668122</td>\n",
       "      <td>0.522013</td>\n",
       "    </tr>\n",
       "    <tr>\n",
       "      <th>1</th>\n",
       "      <td>RandomForest</td>\n",
       "      <td>0.650655</td>\n",
       "      <td>0.523810</td>\n",
       "    </tr>\n",
       "    <tr>\n",
       "      <th>2</th>\n",
       "      <td>GradientBoosting</td>\n",
       "      <td>0.639738</td>\n",
       "      <td>0.501511</td>\n",
       "    </tr>\n",
       "    <tr>\n",
       "      <th>3</th>\n",
       "      <td>RandomForest</td>\n",
       "      <td>0.631004</td>\n",
       "      <td>0.486322</td>\n",
       "    </tr>\n",
       "    <tr>\n",
       "      <th>4</th>\n",
       "      <td>GradientBoosting</td>\n",
       "      <td>0.628821</td>\n",
       "      <td>0.484848</td>\n",
       "    </tr>\n",
       "  </tbody>\n",
       "</table>\n",
       "</div>"
      ],
      "text/plain": [
       "              Model  Test Accuracy  Test F1 (1)\n",
       "0      RandomForest       0.668122     0.522013\n",
       "1      RandomForest       0.650655     0.523810\n",
       "2  GradientBoosting       0.639738     0.501511\n",
       "3      RandomForest       0.631004     0.486322\n",
       "4  GradientBoosting       0.628821     0.484848"
      ]
     },
     "metadata": {},
     "output_type": "display_data"
    },
    {
     "data": {
      "image/png": "[encoded data removed]",
      "text/plain": [
       "<Figure size 640x480 with 2 Axes>"
      ]
     },
     "metadata": {},
     "output_type": "display_data"
    },
    {
     "data": {
      "image/png": "[encoded data removed]",
      "text/plain": [
       "<Figure size 640x480 with 2 Axes>"
      ]
     },
     "metadata": {},
     "output_type": "display_data"
    },
    {
     "data": {
      "image/png": "[encoded data removed]",
      "text/plain": [
       "<Figure size 640x480 with 2 Axes>"
      ]
     },
     "metadata": {},
     "output_type": "display_data"
    },
    {
     "data": {
      "image/png": "[encoded data removed]",
      "text/plain": [
       "<Figure size 640x480 with 2 Axes>"
      ]
     },
     "metadata": {},
     "output_type": "display_data"
    },
    {
     "data": {
      "image/png": "[encoded data removed]",
      "text/plain": [
       "<Figure size 640x480 with 2 Axes>"
      ]
     },
     "metadata": {},
     "output_type": "display_data"
    }
   ],
   "source": [
    "tired_top5 = combined_results_sorted.head(5)\n",
    "\n",
    "# 2) Mostra la taula resum dels 5 millors\n",
    "print(f\"\\nTop 5 models per a {TARGET} segons Test Accuracy:\\n\")\n",
    "display(tired_top5[[\"Model\",\"Test Accuracy\",\"Test F1 (1)\"]])\n",
    "\n",
    "# 3) Dibuixa la matriu de confusió de cada un\n",
    "for model_name in tired_top5[\"Model\"]:\n",
    "    clf = base_models[model_name]   # si tens base_models[model_name] enlça directa\n",
    "    y_pred = clf.predict(X_test)    # X_test, y_test són del target \"TIRED\"\n",
    "    cm = confusion_matrix(y_test, y_pred, labels=[0,1])\n",
    "    disp = ConfusionMatrixDisplay(confusion_matrix=cm, display_labels=[0,1])\n",
    "    disp.plot(cmap=plt.cm.Blues)\n",
    "    plt.title(f\"Confusion Matrix — {TARGET} — {model_name}\")\n",
    "    plt.show()"
   ]
  },
  {
   "cell_type": "code",
   "execution_count": 102,
   "id": "7660bf32",
   "metadata": {},
   "outputs": [
    {
     "name": "stdout",
     "output_type": "stream",
     "text": [
      "Fitting 5 folds for each of 100 candidates, totalling 500 fits\n"
     ]
    },
    {
     "ename": "KeyboardInterrupt",
     "evalue": "",
     "output_type": "error",
     "traceback": [
      "\u001b[1;31m---------------------------------------------------------------------------\u001b[0m",
      "\u001b[1;31mKeyboardInterrupt\u001b[0m                         Traceback (most recent call last)",
      "Cell \u001b[1;32mIn[102], line 67\u001b[0m\n\u001b[0;32m     58\u001b[0m cv \u001b[38;5;241m=\u001b[39m StratifiedKFold(n_splits\u001b[38;5;241m=\u001b[39m\u001b[38;5;241m5\u001b[39m, shuffle\u001b[38;5;241m=\u001b[39m\u001b[38;5;28;01mTrue\u001b[39;00m, random_state\u001b[38;5;241m=\u001b[39m\u001b[38;5;241m42\u001b[39m)\n\u001b[0;32m     60\u001b[0m \u001b[38;5;66;03m# ------------------------------------------------------------------\u001b[39;00m\n\u001b[0;32m     61\u001b[0m \u001b[38;5;66;03m# 3) RandomizedSearch (100 configs → 5 × 100 = 500 fits)\u001b[39;00m\n\u001b[0;32m     62\u001b[0m \u001b[38;5;66;03m# ------------------------------------------------------------------\u001b[39;00m\n\u001b[0;32m     63\u001b[0m rs \u001b[38;5;241m=\u001b[39m \u001b[43mRandomizedSearchCV\u001b[49m\u001b[43m(\u001b[49m\n\u001b[0;32m     64\u001b[0m \u001b[43m    \u001b[49m\u001b[43mpipe\u001b[49m\u001b[43m,\u001b[49m\u001b[43m \u001b[49m\u001b[43mparam_dist\u001b[49m\u001b[43m,\u001b[49m\u001b[43m \u001b[49m\u001b[43mn_iter\u001b[49m\u001b[38;5;241;43m=\u001b[39;49m\u001b[38;5;241;43m100\u001b[39;49m\u001b[43m,\u001b[49m\n\u001b[0;32m     65\u001b[0m \u001b[43m    \u001b[49m\u001b[43mscoring\u001b[49m\u001b[38;5;241;43m=\u001b[39;49m\u001b[43mf1_cls1\u001b[49m\u001b[43m,\u001b[49m\u001b[43m \u001b[49m\u001b[43mcv\u001b[49m\u001b[38;5;241;43m=\u001b[39;49m\u001b[43mcv\u001b[49m\u001b[43m,\u001b[49m\u001b[43m \u001b[49m\u001b[43mn_jobs\u001b[49m\u001b[38;5;241;43m=\u001b[39;49m\u001b[38;5;241;43m-\u001b[39;49m\u001b[38;5;241;43m1\u001b[39;49m\u001b[43m,\u001b[49m\u001b[43m \u001b[49m\u001b[43mrefit\u001b[49m\u001b[38;5;241;43m=\u001b[39;49m\u001b[38;5;28;43;01mTrue\u001b[39;49;00m\u001b[43m,\u001b[49m\n\u001b[0;32m     66\u001b[0m \u001b[43m    \u001b[49m\u001b[43mverbose\u001b[49m\u001b[38;5;241;43m=\u001b[39;49m\u001b[38;5;241;43m2\u001b[39;49m\u001b[43m,\u001b[49m\u001b[43m \u001b[49m\u001b[43mrandom_state\u001b[49m\u001b[38;5;241;43m=\u001b[39;49m\u001b[38;5;241;43m42\u001b[39;49m\n\u001b[1;32m---> 67\u001b[0m \u001b[43m)\u001b[49m\u001b[38;5;241;43m.\u001b[39;49m\u001b[43mfit\u001b[49m\u001b[43m(\u001b[49m\u001b[43mX_tr_in\u001b[49m\u001b[43m,\u001b[49m\u001b[43m \u001b[49m\u001b[43my_tr_in\u001b[49m\u001b[43m)\u001b[49m\n\u001b[0;32m     69\u001b[0m best_mlp \u001b[38;5;241m=\u001b[39m rs\u001b[38;5;241m.\u001b[39mbest_estimator_\n\u001b[0;32m     70\u001b[0m \u001b[38;5;28mprint\u001b[39m(\u001b[38;5;124m\"\u001b[39m\u001b[38;5;124mMillor CV F1(cl1):\u001b[39m\u001b[38;5;124m\"\u001b[39m, \u001b[38;5;28mround\u001b[39m(rs\u001b[38;5;241m.\u001b[39mbest_score_, \u001b[38;5;241m4\u001b[39m))\n",
      "File \u001b[1;32mc:\\Users\\roger\\AppData\\Local\\Programs\\Python\\Python313\\Lib\\site-packages\\sklearn\\base.py:1389\u001b[0m, in \u001b[0;36m_fit_context.<locals>.decorator.<locals>.wrapper\u001b[1;34m(estimator, *args, **kwargs)\u001b[0m\n\u001b[0;32m   1382\u001b[0m     estimator\u001b[38;5;241m.\u001b[39m_validate_params()\n\u001b[0;32m   1384\u001b[0m \u001b[38;5;28;01mwith\u001b[39;00m config_context(\n\u001b[0;32m   1385\u001b[0m     skip_parameter_validation\u001b[38;5;241m=\u001b[39m(\n\u001b[0;32m   1386\u001b[0m         prefer_skip_nested_validation \u001b[38;5;129;01mor\u001b[39;00m global_skip_validation\n\u001b[0;32m   1387\u001b[0m     )\n\u001b[0;32m   1388\u001b[0m ):\n\u001b[1;32m-> 1389\u001b[0m     \u001b[38;5;28;01mreturn\u001b[39;00m \u001b[43mfit_method\u001b[49m\u001b[43m(\u001b[49m\u001b[43mestimator\u001b[49m\u001b[43m,\u001b[49m\u001b[43m \u001b[49m\u001b[38;5;241;43m*\u001b[39;49m\u001b[43margs\u001b[49m\u001b[43m,\u001b[49m\u001b[43m \u001b[49m\u001b[38;5;241;43m*\u001b[39;49m\u001b[38;5;241;43m*\u001b[39;49m\u001b[43mkwargs\u001b[49m\u001b[43m)\u001b[49m\n",
      "File \u001b[1;32mc:\\Users\\roger\\AppData\\Local\\Programs\\Python\\Python313\\Lib\\site-packages\\sklearn\\model_selection\\_search.py:1024\u001b[0m, in \u001b[0;36mBaseSearchCV.fit\u001b[1;34m(self, X, y, **params)\u001b[0m\n\u001b[0;32m   1018\u001b[0m     results \u001b[38;5;241m=\u001b[39m \u001b[38;5;28mself\u001b[39m\u001b[38;5;241m.\u001b[39m_format_results(\n\u001b[0;32m   1019\u001b[0m         all_candidate_params, n_splits, all_out, all_more_results\n\u001b[0;32m   1020\u001b[0m     )\n\u001b[0;32m   1022\u001b[0m     \u001b[38;5;28;01mreturn\u001b[39;00m results\n\u001b[1;32m-> 1024\u001b[0m \u001b[38;5;28;43mself\u001b[39;49m\u001b[38;5;241;43m.\u001b[39;49m\u001b[43m_run_search\u001b[49m\u001b[43m(\u001b[49m\u001b[43mevaluate_candidates\u001b[49m\u001b[43m)\u001b[49m\n\u001b[0;32m   1026\u001b[0m \u001b[38;5;66;03m# multimetric is determined here because in the case of a callable\u001b[39;00m\n\u001b[0;32m   1027\u001b[0m \u001b[38;5;66;03m# self.scoring the return type is only known after calling\u001b[39;00m\n\u001b[0;32m   1028\u001b[0m first_test_score \u001b[38;5;241m=\u001b[39m all_out[\u001b[38;5;241m0\u001b[39m][\u001b[38;5;124m\"\u001b[39m\u001b[38;5;124mtest_scores\u001b[39m\u001b[38;5;124m\"\u001b[39m]\n",
      "File \u001b[1;32mc:\\Users\\roger\\AppData\\Local\\Programs\\Python\\Python313\\Lib\\site-packages\\sklearn\\model_selection\\_search.py:1951\u001b[0m, in \u001b[0;36mRandomizedSearchCV._run_search\u001b[1;34m(self, evaluate_candidates)\u001b[0m\n\u001b[0;32m   1949\u001b[0m \u001b[38;5;28;01mdef\u001b[39;00m \u001b[38;5;21m_run_search\u001b[39m(\u001b[38;5;28mself\u001b[39m, evaluate_candidates):\n\u001b[0;32m   1950\u001b[0m \u001b[38;5;250m    \u001b[39m\u001b[38;5;124;03m\"\"\"Search n_iter candidates from param_distributions\"\"\"\u001b[39;00m\n\u001b[1;32m-> 1951\u001b[0m     \u001b[43mevaluate_candidates\u001b[49m\u001b[43m(\u001b[49m\n\u001b[0;32m   1952\u001b[0m \u001b[43m        \u001b[49m\u001b[43mParameterSampler\u001b[49m\u001b[43m(\u001b[49m\n\u001b[0;32m   1953\u001b[0m \u001b[43m            \u001b[49m\u001b[38;5;28;43mself\u001b[39;49m\u001b[38;5;241;43m.\u001b[39;49m\u001b[43mparam_distributions\u001b[49m\u001b[43m,\u001b[49m\u001b[43m \u001b[49m\u001b[38;5;28;43mself\u001b[39;49m\u001b[38;5;241;43m.\u001b[39;49m\u001b[43mn_iter\u001b[49m\u001b[43m,\u001b[49m\u001b[43m \u001b[49m\u001b[43mrandom_state\u001b[49m\u001b[38;5;241;43m=\u001b[39;49m\u001b[38;5;28;43mself\u001b[39;49m\u001b[38;5;241;43m.\u001b[39;49m\u001b[43mrandom_state\u001b[49m\n\u001b[0;32m   1954\u001b[0m \u001b[43m        \u001b[49m\u001b[43m)\u001b[49m\n\u001b[0;32m   1955\u001b[0m \u001b[43m    \u001b[49m\u001b[43m)\u001b[49m\n",
      "File \u001b[1;32mc:\\Users\\roger\\AppData\\Local\\Programs\\Python\\Python313\\Lib\\site-packages\\sklearn\\model_selection\\_search.py:970\u001b[0m, in \u001b[0;36mBaseSearchCV.fit.<locals>.evaluate_candidates\u001b[1;34m(candidate_params, cv, more_results)\u001b[0m\n\u001b[0;32m    962\u001b[0m \u001b[38;5;28;01mif\u001b[39;00m \u001b[38;5;28mself\u001b[39m\u001b[38;5;241m.\u001b[39mverbose \u001b[38;5;241m>\u001b[39m \u001b[38;5;241m0\u001b[39m:\n\u001b[0;32m    963\u001b[0m     \u001b[38;5;28mprint\u001b[39m(\n\u001b[0;32m    964\u001b[0m         \u001b[38;5;124m\"\u001b[39m\u001b[38;5;124mFitting \u001b[39m\u001b[38;5;132;01m{0}\u001b[39;00m\u001b[38;5;124m folds for each of \u001b[39m\u001b[38;5;132;01m{1}\u001b[39;00m\u001b[38;5;124m candidates,\u001b[39m\u001b[38;5;124m\"\u001b[39m\n\u001b[0;32m    965\u001b[0m         \u001b[38;5;124m\"\u001b[39m\u001b[38;5;124m totalling \u001b[39m\u001b[38;5;132;01m{2}\u001b[39;00m\u001b[38;5;124m fits\u001b[39m\u001b[38;5;124m\"\u001b[39m\u001b[38;5;241m.\u001b[39mformat(\n\u001b[0;32m    966\u001b[0m             n_splits, n_candidates, n_candidates \u001b[38;5;241m*\u001b[39m n_splits\n\u001b[0;32m    967\u001b[0m         )\n\u001b[0;32m    968\u001b[0m     )\n\u001b[1;32m--> 970\u001b[0m out \u001b[38;5;241m=\u001b[39m \u001b[43mparallel\u001b[49m\u001b[43m(\u001b[49m\n\u001b[0;32m    971\u001b[0m \u001b[43m    \u001b[49m\u001b[43mdelayed\u001b[49m\u001b[43m(\u001b[49m\u001b[43m_fit_and_score\u001b[49m\u001b[43m)\u001b[49m\u001b[43m(\u001b[49m\n\u001b[0;32m    972\u001b[0m \u001b[43m        \u001b[49m\u001b[43mclone\u001b[49m\u001b[43m(\u001b[49m\u001b[43mbase_estimator\u001b[49m\u001b[43m)\u001b[49m\u001b[43m,\u001b[49m\n\u001b[0;32m    973\u001b[0m \u001b[43m        \u001b[49m\u001b[43mX\u001b[49m\u001b[43m,\u001b[49m\n\u001b[0;32m    974\u001b[0m \u001b[43m        \u001b[49m\u001b[43my\u001b[49m\u001b[43m,\u001b[49m\n\u001b[0;32m    975\u001b[0m \u001b[43m        \u001b[49m\u001b[43mtrain\u001b[49m\u001b[38;5;241;43m=\u001b[39;49m\u001b[43mtrain\u001b[49m\u001b[43m,\u001b[49m\n\u001b[0;32m    976\u001b[0m \u001b[43m        \u001b[49m\u001b[43mtest\u001b[49m\u001b[38;5;241;43m=\u001b[39;49m\u001b[43mtest\u001b[49m\u001b[43m,\u001b[49m\n\u001b[0;32m    977\u001b[0m \u001b[43m        \u001b[49m\u001b[43mparameters\u001b[49m\u001b[38;5;241;43m=\u001b[39;49m\u001b[43mparameters\u001b[49m\u001b[43m,\u001b[49m\n\u001b[0;32m    978\u001b[0m \u001b[43m        \u001b[49m\u001b[43msplit_progress\u001b[49m\u001b[38;5;241;43m=\u001b[39;49m\u001b[43m(\u001b[49m\u001b[43msplit_idx\u001b[49m\u001b[43m,\u001b[49m\u001b[43m \u001b[49m\u001b[43mn_splits\u001b[49m\u001b[43m)\u001b[49m\u001b[43m,\u001b[49m\n\u001b[0;32m    979\u001b[0m \u001b[43m        \u001b[49m\u001b[43mcandidate_progress\u001b[49m\u001b[38;5;241;43m=\u001b[39;49m\u001b[43m(\u001b[49m\u001b[43mcand_idx\u001b[49m\u001b[43m,\u001b[49m\u001b[43m \u001b[49m\u001b[43mn_candidates\u001b[49m\u001b[43m)\u001b[49m\u001b[43m,\u001b[49m\n\u001b[0;32m    980\u001b[0m \u001b[43m        \u001b[49m\u001b[38;5;241;43m*\u001b[39;49m\u001b[38;5;241;43m*\u001b[39;49m\u001b[43mfit_and_score_kwargs\u001b[49m\u001b[43m,\u001b[49m\n\u001b[0;32m    981\u001b[0m \u001b[43m    \u001b[49m\u001b[43m)\u001b[49m\n\u001b[0;32m    982\u001b[0m \u001b[43m    \u001b[49m\u001b[38;5;28;43;01mfor\u001b[39;49;00m\u001b[43m \u001b[49m\u001b[43m(\u001b[49m\u001b[43mcand_idx\u001b[49m\u001b[43m,\u001b[49m\u001b[43m \u001b[49m\u001b[43mparameters\u001b[49m\u001b[43m)\u001b[49m\u001b[43m,\u001b[49m\u001b[43m \u001b[49m\u001b[43m(\u001b[49m\u001b[43msplit_idx\u001b[49m\u001b[43m,\u001b[49m\u001b[43m \u001b[49m\u001b[43m(\u001b[49m\u001b[43mtrain\u001b[49m\u001b[43m,\u001b[49m\u001b[43m \u001b[49m\u001b[43mtest\u001b[49m\u001b[43m)\u001b[49m\u001b[43m)\u001b[49m\u001b[43m \u001b[49m\u001b[38;5;129;43;01min\u001b[39;49;00m\u001b[43m \u001b[49m\u001b[43mproduct\u001b[49m\u001b[43m(\u001b[49m\n\u001b[0;32m    983\u001b[0m \u001b[43m        \u001b[49m\u001b[38;5;28;43menumerate\u001b[39;49m\u001b[43m(\u001b[49m\u001b[43mcandidate_params\u001b[49m\u001b[43m)\u001b[49m\u001b[43m,\u001b[49m\n\u001b[0;32m    984\u001b[0m \u001b[43m        \u001b[49m\u001b[38;5;28;43menumerate\u001b[39;49m\u001b[43m(\u001b[49m\u001b[43mcv\u001b[49m\u001b[38;5;241;43m.\u001b[39;49m\u001b[43msplit\u001b[49m\u001b[43m(\u001b[49m\u001b[43mX\u001b[49m\u001b[43m,\u001b[49m\u001b[43m \u001b[49m\u001b[43my\u001b[49m\u001b[43m,\u001b[49m\u001b[43m \u001b[49m\u001b[38;5;241;43m*\u001b[39;49m\u001b[38;5;241;43m*\u001b[39;49m\u001b[43mrouted_params\u001b[49m\u001b[38;5;241;43m.\u001b[39;49m\u001b[43msplitter\u001b[49m\u001b[38;5;241;43m.\u001b[39;49m\u001b[43msplit\u001b[49m\u001b[43m)\u001b[49m\u001b[43m)\u001b[49m\u001b[43m,\u001b[49m\n\u001b[0;32m    985\u001b[0m \u001b[43m    \u001b[49m\u001b[43m)\u001b[49m\n\u001b[0;32m    986\u001b[0m \u001b[43m\u001b[49m\u001b[43m)\u001b[49m\n\u001b[0;32m    988\u001b[0m \u001b[38;5;28;01mif\u001b[39;00m \u001b[38;5;28mlen\u001b[39m(out) \u001b[38;5;241m<\u001b[39m \u001b[38;5;241m1\u001b[39m:\n\u001b[0;32m    989\u001b[0m     \u001b[38;5;28;01mraise\u001b[39;00m \u001b[38;5;167;01mValueError\u001b[39;00m(\n\u001b[0;32m    990\u001b[0m         \u001b[38;5;124m\"\u001b[39m\u001b[38;5;124mNo fits were performed. \u001b[39m\u001b[38;5;124m\"\u001b[39m\n\u001b[0;32m    991\u001b[0m         \u001b[38;5;124m\"\u001b[39m\u001b[38;5;124mWas the CV iterator empty? \u001b[39m\u001b[38;5;124m\"\u001b[39m\n\u001b[0;32m    992\u001b[0m         \u001b[38;5;124m\"\u001b[39m\u001b[38;5;124mWere there no candidates?\u001b[39m\u001b[38;5;124m\"\u001b[39m\n\u001b[0;32m    993\u001b[0m     )\n",
      "File \u001b[1;32mc:\\Users\\roger\\AppData\\Local\\Programs\\Python\\Python313\\Lib\\site-packages\\sklearn\\utils\\parallel.py:77\u001b[0m, in \u001b[0;36mParallel.__call__\u001b[1;34m(self, iterable)\u001b[0m\n\u001b[0;32m     72\u001b[0m config \u001b[38;5;241m=\u001b[39m get_config()\n\u001b[0;32m     73\u001b[0m iterable_with_config \u001b[38;5;241m=\u001b[39m (\n\u001b[0;32m     74\u001b[0m     (_with_config(delayed_func, config), args, kwargs)\n\u001b[0;32m     75\u001b[0m     \u001b[38;5;28;01mfor\u001b[39;00m delayed_func, args, kwargs \u001b[38;5;129;01min\u001b[39;00m iterable\n\u001b[0;32m     76\u001b[0m )\n\u001b[1;32m---> 77\u001b[0m \u001b[38;5;28;01mreturn\u001b[39;00m \u001b[38;5;28;43msuper\u001b[39;49m\u001b[43m(\u001b[49m\u001b[43m)\u001b[49m\u001b[38;5;241;43m.\u001b[39;49m\u001b[38;5;21;43m__call__\u001b[39;49m\u001b[43m(\u001b[49m\u001b[43miterable_with_config\u001b[49m\u001b[43m)\u001b[49m\n",
      "File \u001b[1;32mc:\\Users\\roger\\AppData\\Local\\Programs\\Python\\Python313\\Lib\\site-packages\\joblib\\parallel.py:2007\u001b[0m, in \u001b[0;36mParallel.__call__\u001b[1;34m(self, iterable)\u001b[0m\n\u001b[0;32m   2001\u001b[0m \u001b[38;5;66;03m# The first item from the output is blank, but it makes the interpreter\u001b[39;00m\n\u001b[0;32m   2002\u001b[0m \u001b[38;5;66;03m# progress until it enters the Try/Except block of the generator and\u001b[39;00m\n\u001b[0;32m   2003\u001b[0m \u001b[38;5;66;03m# reaches the first `yield` statement. This starts the asynchronous\u001b[39;00m\n\u001b[0;32m   2004\u001b[0m \u001b[38;5;66;03m# dispatch of the tasks to the workers.\u001b[39;00m\n\u001b[0;32m   2005\u001b[0m \u001b[38;5;28mnext\u001b[39m(output)\n\u001b[1;32m-> 2007\u001b[0m \u001b[38;5;28;01mreturn\u001b[39;00m output \u001b[38;5;28;01mif\u001b[39;00m \u001b[38;5;28mself\u001b[39m\u001b[38;5;241m.\u001b[39mreturn_generator \u001b[38;5;28;01melse\u001b[39;00m \u001b[38;5;28;43mlist\u001b[39;49m\u001b[43m(\u001b[49m\u001b[43moutput\u001b[49m\u001b[43m)\u001b[49m\n",
      "File \u001b[1;32mc:\\Users\\roger\\AppData\\Local\\Programs\\Python\\Python313\\Lib\\site-packages\\joblib\\parallel.py:1650\u001b[0m, in \u001b[0;36mParallel._get_outputs\u001b[1;34m(self, iterator, pre_dispatch)\u001b[0m\n\u001b[0;32m   1647\u001b[0m     \u001b[38;5;28;01myield\u001b[39;00m\n\u001b[0;32m   1649\u001b[0m     \u001b[38;5;28;01mwith\u001b[39;00m \u001b[38;5;28mself\u001b[39m\u001b[38;5;241m.\u001b[39m_backend\u001b[38;5;241m.\u001b[39mretrieval_context():\n\u001b[1;32m-> 1650\u001b[0m         \u001b[38;5;28;01myield from\u001b[39;00m \u001b[38;5;28mself\u001b[39m\u001b[38;5;241m.\u001b[39m_retrieve()\n\u001b[0;32m   1652\u001b[0m \u001b[38;5;28;01mexcept\u001b[39;00m \u001b[38;5;167;01mGeneratorExit\u001b[39;00m:\n\u001b[0;32m   1653\u001b[0m     \u001b[38;5;66;03m# The generator has been garbage collected before being fully\u001b[39;00m\n\u001b[0;32m   1654\u001b[0m     \u001b[38;5;66;03m# consumed. This aborts the remaining tasks if possible and warn\u001b[39;00m\n\u001b[0;32m   1655\u001b[0m     \u001b[38;5;66;03m# the user if necessary.\u001b[39;00m\n\u001b[0;32m   1656\u001b[0m     \u001b[38;5;28mself\u001b[39m\u001b[38;5;241m.\u001b[39m_exception \u001b[38;5;241m=\u001b[39m \u001b[38;5;28;01mTrue\u001b[39;00m\n",
      "File \u001b[1;32mc:\\Users\\roger\\AppData\\Local\\Programs\\Python\\Python313\\Lib\\site-packages\\joblib\\parallel.py:1762\u001b[0m, in \u001b[0;36mParallel._retrieve\u001b[1;34m(self)\u001b[0m\n\u001b[0;32m   1757\u001b[0m \u001b[38;5;66;03m# If the next job is not ready for retrieval yet, we just wait for\u001b[39;00m\n\u001b[0;32m   1758\u001b[0m \u001b[38;5;66;03m# async callbacks to progress.\u001b[39;00m\n\u001b[0;32m   1759\u001b[0m \u001b[38;5;28;01mif\u001b[39;00m ((\u001b[38;5;28mlen\u001b[39m(\u001b[38;5;28mself\u001b[39m\u001b[38;5;241m.\u001b[39m_jobs) \u001b[38;5;241m==\u001b[39m \u001b[38;5;241m0\u001b[39m) \u001b[38;5;129;01mor\u001b[39;00m\n\u001b[0;32m   1760\u001b[0m     (\u001b[38;5;28mself\u001b[39m\u001b[38;5;241m.\u001b[39m_jobs[\u001b[38;5;241m0\u001b[39m]\u001b[38;5;241m.\u001b[39mget_status(\n\u001b[0;32m   1761\u001b[0m         timeout\u001b[38;5;241m=\u001b[39m\u001b[38;5;28mself\u001b[39m\u001b[38;5;241m.\u001b[39mtimeout) \u001b[38;5;241m==\u001b[39m TASK_PENDING)):\n\u001b[1;32m-> 1762\u001b[0m     \u001b[43mtime\u001b[49m\u001b[38;5;241;43m.\u001b[39;49m\u001b[43msleep\u001b[49m\u001b[43m(\u001b[49m\u001b[38;5;241;43m0.01\u001b[39;49m\u001b[43m)\u001b[49m\n\u001b[0;32m   1763\u001b[0m     \u001b[38;5;28;01mcontinue\u001b[39;00m\n\u001b[0;32m   1765\u001b[0m \u001b[38;5;66;03m# We need to be careful: the job list can be filling up as\u001b[39;00m\n\u001b[0;32m   1766\u001b[0m \u001b[38;5;66;03m# we empty it and Python list are not thread-safe by\u001b[39;00m\n\u001b[0;32m   1767\u001b[0m \u001b[38;5;66;03m# default hence the use of the lock\u001b[39;00m\n",
      "\u001b[1;31mKeyboardInterrupt\u001b[0m: "
     ]
    }
   ],
   "source": [
    "# ------------------------------------------------------------------\n",
    "# 0) Paquet i dades Top‑15 (ja calculades)\n",
    "# ------------------------------------------------------------------\n",
    "from sklearn.model_selection import RandomizedSearchCV, StratifiedKFold, train_test_split\n",
    "from sklearn.metrics import f1_score, precision_recall_curve, classification_report, make_scorer\n",
    "from sklearn.neural_network import MLPClassifier\n",
    "from imblearn.pipeline import Pipeline as ImbPipeline\n",
    "from imblearn.over_sampling import SMOTE\n",
    "\n",
    "# llista de 15 millors features (Gini o permutació, la que vulguis)\n",
    "sel_feats   = perm_top_features[10]        # o perm_top_features[\"TIRED\"][15]\n",
    "num_sel = [f for f in sel_feats if f in numerical_features]\n",
    "cat_sel = [f for f in sel_feats if f in categorical_features]\n",
    "\n",
    "transfs = []\n",
    "if num_sel:\n",
    "    transfs.append((\"num\", numeric_transformer, num_sel))\n",
    "if cat_sel:\n",
    "    transfs.append((\"cat\", categorical_transformer, cat_sel))\n",
    "preproc_top = ColumnTransformer(transfs)\n",
    "\n",
    "# train_in / val per llindar\n",
    "X_tr_in, X_val, y_tr_in, y_val = train_test_split(\n",
    "    X_train, y_train,\n",
    "    test_size=0.20, stratify=y_train, random_state=42\n",
    ")\n",
    "\n",
    "# ------------------------------------------------------------------\n",
    "# 1) Pipeline\n",
    "# ------------------------------------------------------------------\n",
    "pipe = ImbPipeline([\n",
    "    (\"preprocessor\", preproc_top),\n",
    "    (\"smote\",        SMOTE(random_state=42)),\n",
    "    (\"mlp\",          MLPClassifier(max_iter=1500, random_state=42))\n",
    "])\n",
    "\n",
    "# ------------------------------------------------------------------\n",
    "# 2) Hiperparàmetres (distribucions àmplies)\n",
    "# ------------------------------------------------------------------\n",
    "from scipy.stats import uniform, randint\n",
    "\n",
    "param_dist = {\n",
    "    \"mlp__hidden_layer_sizes\": [(randint.rvs(50, 250),),               # 1 capa\n",
    "                                (randint.rvs(80, 200), randint.rvs(30,120)),  # 2 capes\n",
    "                                (randint.rvs(100, 200), randint.rvs(70,140), randint.rvs(20,70))],   # 3\n",
    "    \"mlp__activation\":         [\"relu\", \"tanh\", \"logistic\"],\n",
    "    \"mlp__solver\":             [\"adam\", \"lbfgs\"],\n",
    "    \"mlp__alpha\":              uniform(1e-6, 1e-2),      # 1e‑6 → 1e‑2\n",
    "    \"mlp__learning_rate\":      [\"constant\", \"adaptive\"],\n",
    "    \"mlp__learning_rate_init\": uniform(1e-4, 5e-3),      # 1e‑4 → 5e‑3\n",
    "    \"mlp__batch_size\":         [32, 64, 128, 256],\n",
    "    \"mlp__early_stopping\":     [True],\n",
    "    \"mlp__tol\":                [1e-4, 1e-5],\n",
    "    \"mlp__n_iter_no_change\":   [10, 20]\n",
    "}\n",
    "\n",
    "f1_cls1 = make_scorer(f1_score, pos_label=1)\n",
    "cv = StratifiedKFold(n_splits=5, shuffle=True, random_state=42)\n",
    "\n",
    "# ------------------------------------------------------------------\n",
    "# 3) RandomizedSearch (100 configs → 5 × 100 = 500 fits)\n",
    "# ------------------------------------------------------------------\n",
    "rs = RandomizedSearchCV(\n",
    "    pipe, param_dist, n_iter=100,\n",
    "    scoring=f1_cls1, \n",
    "    cv=cv, \n",
    "    n_jobs=-1, \n",
    "    refit=True,\n",
    "    verbose=2, \n",
    "    random_state=42\n",
    ").fit(X_tr_in, y_tr_in)\n",
    "\n",
    "best_mlp = rs.best_estimator_\n",
    "print(\"Millor CV F1(cl1):\", round(rs.best_score_, 4))\n",
    "print(\"Millors paràmetres:\", rs.best_params_)\n",
    "\n",
    "# ------------------------------------------------------------------\n",
    "# 4) Llindar òptim (F1 macro) sobre VALIDATION\n",
    "# ------------------------------------------------------------------\n",
    "probs_val = best_mlp.predict_proba(X_val)[:, 1]\n",
    "prec, rec, thr = precision_recall_curve(y_val, probs_val)\n",
    "f1_macro_vals = [f1_score(y_val, (probs_val>=t), average=\"macro\") for t in thr]\n",
    "thr_opt = thr[int(np.argmax(f1_macro_vals))]\n",
    "print(f\"Llindar òptim: {thr_opt:.3f}\")\n",
    "\n",
    "# ------------------------------------------------------------------\n",
    "# 5) TEST final\n",
    "# ------------------------------------------------------------------\n",
    "probs_test = best_mlp.predict_proba(X_test)[:, 1]\n",
    "y_pred = (probs_test >= thr_opt).astype(int)\n",
    "\n",
    "print(\"\\n=== Informe TEST ===\")\n",
    "print(classification_report(y_test, y_pred, digits=4))\n",
    "\n",
    "cm = ConfusionMatrixDisplay.from_predictions(y_test, y_pred, labels=[0,1], cmap=\"Blues\")\n",
    "cm.ax_.set_title(\"TIRED — Top15 MLP (afinament extens)\")\n",
    "plt.show()\n"
   ]
  },
  {
   "cell_type": "code",
   "execution_count": null,
   "id": "60b5e6e3",
   "metadata": {},
   "outputs": [
    {
     "name": "stdout",
     "output_type": "stream",
     "text": [
      "Característiques seleccionades (Top 15 per permutació): ['bmi_tipo', 'daily_temperature_variation', 'bmi', 'full_sleep_breathing_rate', 'bpm', 'sedentary_minutes', 'gender', 'steps', 'resting_hr', 'sleep_efficiency', 'sleep_deep_ratio', 'rmssd', 'calories', 'minutesAsleep', 'nightly_temperature']\n",
      "Dimensions X_tr_in: (1465, 23), X_val: (367, 23)\n",
      "Iniciant RandomizedSearchCV per MLP...\n",
      "Fitting 5 folds for each of 75 candidates, totalling 375 fits\n",
      "\n",
      "Millor CV F1(cl1) per MLP: 0.5192\n",
      "Millors paràmetres per MLP: {'mlp__activation': 'relu', 'mlp__alpha': np.float64(0.005353274735305634), 'mlp__batch_size': 32, 'mlp__early_stopping': True, 'mlp__hidden_layer_sizes': (60, 47), 'mlp__learning_rate': 'constant', 'mlp__learning_rate_init': np.float64(0.0009955232284962006), 'mlp__n_iter_no_change': 10, 'mlp__solver': 'adam', 'mlp__tol': 1e-05}\n",
      "\n",
      "Optimitzant llindar de decisió en conjunt de validació...\n",
      "Llindar òptim (F1 Macro) per MLP: 0.5333 (F1-macro a validació: 0.5757)\n",
      "\n",
      "Avaluant el millor MLP en el conjunt de test...\n",
      "\n",
      "=== Informe TEST Final per al Millor MLP ===\n",
      "              precision    recall  f1-score   support\n",
      "\n",
      "         0.0     0.6813    0.6596    0.6703       282\n",
      "         1.0     0.4811    0.5057    0.4931       176\n",
      "\n",
      "    accuracy                         0.6004       458\n",
      "   macro avg     0.5812    0.5826    0.5817       458\n",
      "weighted avg     0.6044    0.6004    0.6022       458\n",
      "\n",
      "Test F1-score (macro) MLP: 0.5817\n",
      "Test F1-score (clase 1) MLP: 0.4931\n",
      "Test ROC AUC MLP: 0.6171\n"
     ]
    },
    {
     "data": {
      "image/png": "[encoded data removed]",
      "text/plain": [
       "<Figure size 640x480 with 2 Axes>"
      ]
     },
     "metadata": {},
     "output_type": "display_data"
    }
   ],
   "source": [
    "\n",
    "sel_feats = perm_top_features[15] # Llista de 15 millors features per permutació\n",
    "\n",
    "\n",
    "print(f\"Característiques seleccionades (Top 15 per permutació): {sel_feats}\")\n",
    "\n",
    "num_sel = [f for f in sel_feats if f in numerical_features]\n",
    "cat_sel = [f for f in sel_feats if f in categorical_features]\n",
    "\n",
    "# Preprocessador específic per a les característiques seleccionades\n",
    "# numeric_transformer i categorical_transformer haurien d'estar definits prèviament\n",
    "# (p.ex., el numeric_transformer inicial amb SimpleImputer(median) i StandardScaler)\n",
    "transfs = []\n",
    "if num_sel:\n",
    "    transfs.append((\"num\", numeric_transformer, num_sel))\n",
    "if cat_sel:\n",
    "    # Assegura't que categorical_transformer està definit (SimpleImputer(most_frequent) + OHE)\n",
    "    transfs.append((\"cat\", categorical_transformer, cat_sel))\n",
    "\n",
    "if not transfs:\n",
    "    print(\"Error: No s'han pogut crear transformadors. Comprova num_sel i cat_sel.\")\n",
    "else:\n",
    "    preproc_top = ColumnTransformer(transfs, remainder=\"drop\") # 'drop' és important\n",
    "\n",
    "    # Divisió train_intern / validació per a l'ajust del llindar\n",
    "    # Corregit y_tired_train a y_train\n",
    "    X_tr_in, X_val, y_tr_in, y_val = train_test_split(\n",
    "        X_train, y_train, # Utilitza y_train aquí\n",
    "        test_size=0.20, \n",
    "        stratify=y_train, # Estratifica amb y_train\n",
    "        random_state=42\n",
    "    )\n",
    "    print(f\"Dimensions X_tr_in: {X_tr_in.shape}, X_val: {X_val.shape}\")\n",
    "\n",
    "    # ------------------------------------------------------------------\n",
    "    # 1) Pipeline\n",
    "    # ------------------------------------------------------------------\n",
    "    # L' MLPClassifier es defineix aquí amb paràmetres base, RandomizedSearchCV els modificarà\n",
    "    pipe_mlp_final = ImbPipeline([\n",
    "        (\"preprocessor\", preproc_top),\n",
    "        (\"smote\",        SMOTE(random_state=42)),\n",
    "        (\"mlp\",          MLPClassifier(max_iter=1500, random_state=42)) # max_iter augmentat per si de cas\n",
    "    ])\n",
    "\n",
    "    # ------------------------------------------------------------------\n",
    "    # 2) Hiperparàmetres (distribucions àmplies)\n",
    "    # ------------------------------------------------------------------\n",
    "    from scipy.stats import uniform, randint\n",
    "\n",
    "    # S'ha observat que 'lbfgs' pot no funcionar bé amb SMOTE o necessitar moltes iteracions.\n",
    "    # 'adam' sol ser més robust. Considera eliminar 'lbfgs' si hi ha problemes de convergència.\n",
    "    param_dist_mlp = {\n",
    "        \"mlp__hidden_layer_sizes\": [(randint.rvs(30, 150),),               # 1 capa\n",
    "                                    (randint.rvs(50, 120), randint.rvs(20,80)),  # 2 capes\n",
    "                                    (randint.rvs(60, 100), randint.rvs(40,80), randint.rvs(20,60))], # 3 capes (més petites)\n",
    "        \"mlp__activation\":         [\"relu\", \"tanh\", \"logistic\"],\n",
    "        \"mlp__solver\":             [\"adam\"], # LBFGS pot ser problemàtic amb batch_size i early_stopping\n",
    "        \"mlp__alpha\":              uniform(1e-5, 1e-2),      # Regularització L2\n",
    "        \"mlp__learning_rate\":      [\"constant\", \"adaptive\"],\n",
    "        \"mlp__learning_rate_init\": uniform(1e-4, 1e-3),    \n",
    "        \"mlp__batch_size\":         [32, 64, 128], # 256 pot ser massa gran per a aquest dataset\n",
    "        \"mlp__early_stopping\":     [True],\n",
    "        \"mlp__n_iter_no_change\":   [10, 20], # Més paciència\n",
    "        \"mlp__tol\":                [1e-4, 1e-5] # Tolerància per a la convergència\n",
    "    }\n",
    "\n",
    "    # Mètrica per a GridSearchCV: F1 per a la classe positiva o ROC AUC\n",
    "    f1_cls1_scorer = make_scorer(f1_score, pos_label=1)\n",
    "    # roc_auc_scorer = make_scorer(roc_auc_score, needs_proba=True, average='macro')\n",
    "\n",
    "    cv_final = StratifiedKFold(n_splits=5, shuffle=True, random_state=42)\n",
    "\n",
    "    # ------------------------------------------------------------------\n",
    "    # 3) RandomizedSearch\n",
    "    # ------------------------------------------------------------------\n",
    "    # n_iter: quantitat de combinacions de paràmetres a provar. 50-100 és un bon punt de partida.\n",
    "    # verbose=1 per menys output\n",
    "    rs_mlp = RandomizedSearchCV(\n",
    "        pipe_mlp_final, param_dist_mlp, n_iter=75, # Reduït n_iter si 100 és massa lent\n",
    "        scoring=f1_cls1_scorer, cv=cv_final, n_jobs=-1, refit=True,\n",
    "        verbose=1, random_state=42\n",
    "    )\n",
    "    \n",
    "    # X_tr_in conté totes les característiques originals. \n",
    "    # El 'preprocessor' dins del pipeline s'encarregarà de seleccionar només 'sel_feats'.\n",
    "    print(\"Iniciant RandomizedSearchCV per MLP...\")\n",
    "    rs_mlp.fit(X_tr_in, y_tr_in)\n",
    "\n",
    "    best_mlp_final = rs_mlp.best_estimator_\n",
    "    print(\"\\nMillor CV F1(cl1) per MLP:\", round(rs_mlp.best_score_, 4))\n",
    "    print(\"Millors paràmetres per MLP:\", rs_mlp.best_params_)\n",
    "\n",
    "    # ------------------------------------------------------------------\n",
    "    # 4) Llindar òptim (F1 macro) sobre VALIDATION\n",
    "    # ------------------------------------------------------------------\n",
    "    # X_val també conté totes les característiques originals. El preprocessador seleccionarà les correctes.\n",
    "    print(\"\\nOptimitzant llindar de decisió en conjunt de validació...\")\n",
    "    probs_val_mlp = best_mlp_final.predict_proba(X_val)[:, 1]\n",
    "    \n",
    "    precision_vals, recall_vals, thresholds_vals = precision_recall_curve(y_val, probs_val_mlp, pos_label=1)\n",
    "    \n",
    "    # Excloure llindars trivials 0 i 1 si causen problemes amb F1\n",
    "    f1_macro_scores_mlp = []\n",
    "    valid_thresholds_mlp = []\n",
    "    for t in thresholds_vals:\n",
    "        if 0 < t < 1: # Evitar llindars extrems si és necessari\n",
    "            y_pred_temp = (probs_val_mlp >= t).astype(int)\n",
    "            f1_macro_scores_mlp.append(f1_score(y_val, y_pred_temp, average=\"macro\"))\n",
    "            valid_thresholds_mlp.append(t)\n",
    "    \n",
    "    if not f1_macro_scores_mlp: # Fallback si tots els llindars eren 0 o 1\n",
    "            f1_macro_scores_mlp = [f1_score(y_val, (probs_val_mlp >= t).astype(int), average=\"macro\") for t in thresholds_vals]\n",
    "            valid_thresholds_mlp = thresholds_vals\n",
    "\n",
    "    optimal_idx_mlp = np.argmax(f1_macro_scores_mlp)\n",
    "    thr_opt_mlp = valid_thresholds_mlp[optimal_idx_mlp]\n",
    "    print(f\"Llindar òptim (F1 Macro) per MLP: {thr_opt_mlp:.4f} (F1-macro a validació: {f1_macro_scores_mlp[optimal_idx_mlp]:.4f})\")\n",
    "\n",
    "    # ------------------------------------------------------------------\n",
    "    # 5) TEST final amb el millor MLP i llindar òptim\n",
    "    # ------------------------------------------------------------------\n",
    "    # X_test també conté totes les característiques originals.\n",
    "    print(\"\\nAvaluant el millor MLP en el conjunt de test...\")\n",
    "    probs_test_mlp = best_mlp_final.predict_proba(X_test)[:, 1]\n",
    "    y_pred_final_mlp = (probs_test_mlp >= thr_opt_mlp).astype(int)\n",
    "\n",
    "    print(\"\\n=== Informe TEST Final per al Millor MLP ===\")\n",
    "    # Corregit y_tired_test a y_test\n",
    "    print(classification_report(y_test, y_pred_final_mlp, digits=4))\n",
    "\n",
    "    print(f\"Test F1-score (macro) MLP: {f1_score(y_test, y_pred_final_mlp, average='macro'):.4f}\")\n",
    "    print(f\"Test F1-score (clase 1) MLP: {f1_score(y_test, y_pred_final_mlp, pos_label=1):.4f}\")\n",
    "    print(f\"Test ROC AUC MLP: {roc_auc_score(y_test, probs_test_mlp):.4f}\") # probs per ROC AUC\n",
    "\n",
    "    cm_final_mlp = ConfusionMatrixDisplay.from_predictions(\n",
    "        y_test, y_pred_final_mlp, # Corregit y_tired_test a y_test\n",
    "        labels=[0,1], \n",
    "        cmap=\"Blues\",\n",
    "        display_labels=[\"No Cansat\", \"Cansat\"]\n",
    "    )\n",
    "    cm_final_mlp.ax_.set_title(f\"Millor MLP (Top15 Perm) - Llindar {thr_opt_mlp:.3f}\")\n",
    "    plt.show()\n"
   ]
  },
  {
   "cell_type": "code",
   "execution_count": 5,
   "id": "280705e0",
   "metadata": {},
   "outputs": [
    {
     "name": "stderr",
     "output_type": "stream",
     "text": [
      "[I 2025-05-19 23:32:29,002] A new study created in memory with name: xgb_tired_f1\n",
      "  0%|          | 0/40 [00:00<?, ?it/s]"
     ]
    },
    {
     "name": "stderr",
     "output_type": "stream",
     "text": [
      "Best trial: 0. Best value: 0.546241:   2%|▎         | 1/40 [00:06<04:25,  6.80s/it, 6.80/3600 seconds]"
     ]
    },
    {
     "name": "stdout",
     "output_type": "stream",
     "text": [
      "[I 2025-05-19 23:32:35,803] Trial 0 finished with value: 0.54624147636993 and parameters: {'n_estimators': 800, 'max_depth': 10, 'learning_rate': 0.1089391834253663, 'subsample': 0.9863099288673614, 'colsample_bytree': 0.9967121022818833, 'gamma': 2.5916213428646175, 'min_child_weight': 10, 'reg_alpha': 0.047069035578307106, 'reg_lambda': 0.25583430911116534}. Best is trial 0 with value: 0.54624147636993.\n"
     ]
    },
    {
     "name": "stderr",
     "output_type": "stream",
     "text": [
      "Best trial: 1. Best value: 0.566421:   5%|▌         | 2/40 [00:12<04:00,  6.32s/it, 12.79/3600 seconds]"
     ]
    },
    {
     "name": "stdout",
     "output_type": "stream",
     "text": [
      "[I 2025-05-19 23:32:41,792] Trial 1 finished with value: 0.5664213077245059 and parameters: {'n_estimators': 800, 'max_depth': 5, 'learning_rate': 0.0028204904202641687, 'subsample': 0.612571837056449, 'colsample_bytree': 0.7540241639275477, 'gamma': 0.8974396449726546, 'min_child_weight': 6, 'reg_alpha': 0.0028285525542708356, 'reg_lambda': 0.03219692411310304}. Best is trial 1 with value: 0.5664213077245059.\n"
     ]
    },
    {
     "name": "stderr",
     "output_type": "stream",
     "text": [
      "Best trial: 1. Best value: 0.566421:   8%|▊         | 3/40 [00:13<02:19,  3.76s/it, 13.51/3600 seconds]"
     ]
    },
    {
     "name": "stdout",
     "output_type": "stream",
     "text": [
      "[I 2025-05-19 23:32:42,512] Trial 2 finished with value: 0.5181429690200717 and parameters: {'n_estimators': 500, 'max_depth': 6, 'learning_rate': 0.2609122141152425, 'subsample': 0.9981595938053709, 'colsample_bytree': 0.6697446367757314, 'gamma': 0.6140606918450203, 'min_child_weight': 5, 'reg_alpha': 0.6480147484795673, 'reg_lambda': 0.6632214815851453}. Best is trial 1 with value: 0.5664213077245059.\n"
     ]
    },
    {
     "name": "stderr",
     "output_type": "stream",
     "text": [
      "Best trial: 1. Best value: 0.566421:  10%|█         | 4/40 [00:18<02:38,  4.40s/it, 18.88/3600 seconds]"
     ]
    },
    {
     "name": "stdout",
     "output_type": "stream",
     "text": [
      "[I 2025-05-19 23:32:47,880] Trial 3 finished with value: 0.5358753894542961 and parameters: {'n_estimators': 1000, 'max_depth': 9, 'learning_rate': 0.013242423150950406, 'subsample': 0.8733994110853001, 'colsample_bytree': 0.681604154163511, 'gamma': 0.8825507725564702, 'min_child_weight': 12, 'reg_alpha': 0.019718923225467422, 'reg_lambda': 0.2891908893290108}. Best is trial 1 with value: 0.5664213077245059.\n"
     ]
    },
    {
     "name": "stderr",
     "output_type": "stream",
     "text": [
      "Best trial: 1. Best value: 0.566421:  12%|█▎        | 5/40 [00:19<01:46,  3.03s/it, 19.49/3600 seconds]"
     ]
    },
    {
     "name": "stdout",
     "output_type": "stream",
     "text": [
      "[I 2025-05-19 23:32:48,495] Trial 4 finished with value: 0.5476205858100409 and parameters: {'n_estimators': 600, 'max_depth': 7, 'learning_rate': 0.12910773906631418, 'subsample': 0.9231006802221551, 'colsample_bytree': 0.9579165653102096, 'gamma': 3.2468283447605333, 'min_child_weight': 17, 'reg_alpha': 0.3797512352115362, 'reg_lambda': 0.05390308142057476}. Best is trial 1 with value: 0.5664213077245059.\n"
     ]
    },
    {
     "name": "stderr",
     "output_type": "stream",
     "text": [
      "Best trial: 1. Best value: 0.566421:  15%|█▌        | 6/40 [00:23<01:55,  3.40s/it, 23.59/3600 seconds]"
     ]
    },
    {
     "name": "stdout",
     "output_type": "stream",
     "text": [
      "[I 2025-05-19 23:32:52,593] Trial 5 finished with value: 0.5505622975545544 and parameters: {'n_estimators': 1100, 'max_depth': 5, 'learning_rate': 0.005375903778361441, 'subsample': 0.7503954227993479, 'colsample_bytree': 0.7428493449843285, 'gamma': 1.6930350357693136, 'min_child_weight': 4, 'reg_alpha': 0.5319051009136567, 'reg_lambda': 0.883088749160811}. Best is trial 1 with value: 0.5664213077245059.\n"
     ]
    },
    {
     "name": "stderr",
     "output_type": "stream",
     "text": [
      "Best trial: 1. Best value: 0.566421:  18%|█▊        | 7/40 [00:28<02:06,  3.82s/it, 28.28/3600 seconds]"
     ]
    },
    {
     "name": "stdout",
     "output_type": "stream",
     "text": [
      "[I 2025-05-19 23:32:57,286] Trial 6 finished with value: 0.5221374130364962 and parameters: {'n_estimators': 600, 'max_depth': 9, 'learning_rate': 0.021930352470070795, 'subsample': 0.8919225446821359, 'colsample_bytree': 0.8875146531822471, 'gamma': 0.6808269830841346, 'min_child_weight': 7, 'reg_alpha': 0.6310468824547406, 'reg_lambda': 0.26178566620543453}. Best is trial 1 with value: 0.5664213077245059.\n"
     ]
    },
    {
     "name": "stderr",
     "output_type": "stream",
     "text": [
      "Best trial: 1. Best value: 0.566421:  20%|██        | 8/40 [00:30<01:42,  3.21s/it, 30.18/3600 seconds]"
     ]
    },
    {
     "name": "stdout",
     "output_type": "stream",
     "text": [
      "[I 2025-05-19 23:32:59,182] Trial 7 finished with value: 0.5027226378594014 and parameters: {'n_estimators': 800, 'max_depth': 9, 'learning_rate': 0.1509224634210739, 'subsample': 0.6265705701926273, 'colsample_bytree': 0.6425526003713243, 'gamma': 1.1938538939646948, 'min_child_weight': 11, 'reg_alpha': 0.007346662322187836, 'reg_lambda': 0.18319855124901097}. Best is trial 1 with value: 0.5664213077245059.\n"
     ]
    },
    {
     "name": "stderr",
     "output_type": "stream",
     "text": [
      "Best trial: 1. Best value: 0.566421:  22%|██▎       | 9/40 [00:31<01:18,  2.55s/it, 31.27/3600 seconds]"
     ]
    },
    {
     "name": "stdout",
     "output_type": "stream",
     "text": [
      "[I 2025-05-19 23:33:00,273] Trial 8 finished with value: 0.5233446651653175 and parameters: {'n_estimators': 900, 'max_depth': 4, 'learning_rate': 0.22638945801426208, 'subsample': 0.6013312206705458, 'colsample_bytree': 0.7173333083270361, 'gamma': 2.7854132762018002, 'min_child_weight': 17, 'reg_alpha': 0.23850213126741393, 'reg_lambda': 0.9664717225992123}. Best is trial 1 with value: 0.5664213077245059.\n"
     ]
    },
    {
     "name": "stderr",
     "output_type": "stream",
     "text": [
      "Best trial: 1. Best value: 0.566421:  25%|██▌       | 10/40 [00:34<01:18,  2.62s/it, 34.05/3600 seconds]"
     ]
    },
    {
     "name": "stdout",
     "output_type": "stream",
     "text": [
      "[I 2025-05-19 23:33:03,051] Trial 9 finished with value: 0.5653322768023649 and parameters: {'n_estimators': 600, 'max_depth': 5, 'learning_rate': 0.00234317556908899, 'subsample': 0.7545370491633274, 'colsample_bytree': 0.9553258557336979, 'gamma': 3.6429888893142808, 'min_child_weight': 2, 'reg_alpha': 0.7617493483921046, 'reg_lambda': 0.16669650859685303}. Best is trial 1 with value: 0.5664213077245059.\n"
     ]
    },
    {
     "name": "stderr",
     "output_type": "stream",
     "text": [
      "Best trial: 1. Best value: 0.566421:  28%|██▊       | 11/40 [00:34<00:58,  2.02s/it, 34.72/3600 seconds]"
     ]
    },
    {
     "name": "stdout",
     "output_type": "stream",
     "text": [
      "[I 2025-05-19 23:33:03,727] Trial 10 finished with value: 0.555205047318612 and parameters: {'n_estimators': 300, 'max_depth': 3, 'learning_rate': 0.0010434536057252395, 'subsample': 0.6917517386288271, 'colsample_bytree': 0.8099362230426606, 'gamma': 4.576778447446952, 'min_child_weight': 1, 'reg_alpha': 0.9382267366696662, 'reg_lambda': 0.5155668921573505}. Best is trial 1 with value: 0.5664213077245059.\n"
     ]
    },
    {
     "name": "stderr",
     "output_type": "stream",
     "text": [
      "Best trial: 1. Best value: 0.566421:  30%|███       | 12/40 [00:42<01:44,  3.72s/it, 42.31/3600 seconds]"
     ]
    },
    {
     "name": "stdout",
     "output_type": "stream",
     "text": [
      "[I 2025-05-19 23:33:11,316] Trial 11 finished with value: 0.563093389152571 and parameters: {'n_estimators': 1200, 'max_depth': 6, 'learning_rate': 0.0015741606792205292, 'subsample': 0.7964303656841227, 'colsample_bytree': 0.8206234668072391, 'gamma': 3.956701775648715, 'min_child_weight': 1, 'reg_alpha': 0.8674836672612993, 'reg_lambda': 0.00948533893578593}. Best is trial 1 with value: 0.5664213077245059.\n"
     ]
    },
    {
     "name": "stderr",
     "output_type": "stream",
     "text": [
      "Best trial: 1. Best value: 0.566421:  32%|███▎      | 13/40 [00:43<01:19,  2.93s/it, 43.44/3600 seconds]"
     ]
    },
    {
     "name": "stdout",
     "output_type": "stream",
     "text": [
      "[I 2025-05-19 23:33:12,440] Trial 12 finished with value: 0.5635411166517738 and parameters: {'n_estimators': 400, 'max_depth': 4, 'learning_rate': 0.0034554285751065457, 'subsample': 0.6946349095863521, 'colsample_bytree': 0.8810274659037125, 'gamma': 0.05018332550051563, 'min_child_weight': 7, 'reg_alpha': 0.7707742721876786, 'reg_lambda': 0.41447350819129414}. Best is trial 1 with value: 0.5664213077245059.\n"
     ]
    },
    {
     "name": "stderr",
     "output_type": "stream",
     "text": [
      "Best trial: 1. Best value: 0.566421:  35%|███▌      | 14/40 [00:48<01:35,  3.67s/it, 48.80/3600 seconds]"
     ]
    },
    {
     "name": "stdout",
     "output_type": "stream",
     "text": [
      "[I 2025-05-19 23:33:17,802] Trial 13 finished with value: 0.5584182117196331 and parameters: {'n_estimators': 700, 'max_depth': 7, 'learning_rate': 0.003113637872176427, 'subsample': 0.6781697263623963, 'colsample_bytree': 0.7557190929575159, 'gamma': 1.8288267225493038, 'min_child_weight': 4, 'reg_alpha': 0.3210859750451346, 'reg_lambda': 0.10167355119011595}. Best is trial 1 with value: 0.5664213077245059.\n"
     ]
    },
    {
     "name": "stderr",
     "output_type": "stream",
     "text": [
      "Best trial: 1. Best value: 0.566421:  38%|███▊      | 15/40 [00:50<01:17,  3.12s/it, 50.65/3600 seconds]"
     ]
    },
    {
     "name": "stdout",
     "output_type": "stream",
     "text": [
      "[I 2025-05-19 23:33:19,652] Trial 14 finished with value: 0.5577459962979778 and parameters: {'n_estimators': 700, 'max_depth': 5, 'learning_rate': 0.009096464966933004, 'subsample': 0.7759734450370355, 'colsample_bytree': 0.8782747324092977, 'gamma': 3.6467793173959304, 'min_child_weight': 8, 'reg_alpha': 0.7789421546999002, 'reg_lambda': 0.444367580191088}. Best is trial 1 with value: 0.5664213077245059.\n"
     ]
    },
    {
     "name": "stderr",
     "output_type": "stream",
     "text": [
      "Best trial: 1. Best value: 0.566421:  40%|████      | 16/40 [00:51<01:00,  2.51s/it, 51.73/3600 seconds]"
     ]
    },
    {
     "name": "stdout",
     "output_type": "stream",
     "text": [
      "[I 2025-05-19 23:33:20,734] Trial 15 finished with value: 0.5492068840659984 and parameters: {'n_estimators': 900, 'max_depth': 3, 'learning_rate': 0.023490023788743458, 'subsample': 0.7391045223775037, 'colsample_bytree': 0.9326703212502032, 'gamma': 4.937317655168372, 'min_child_weight': 3, 'reg_alpha': 0.15319751801574, 'reg_lambda': 0.13944361061355093}. Best is trial 1 with value: 0.5664213077245059.\n"
     ]
    },
    {
     "name": "stderr",
     "output_type": "stream",
     "text": [
      "Best trial: 1. Best value: 0.566421:  42%|████▎     | 17/40 [00:53<00:51,  2.23s/it, 53.33/3600 seconds]"
     ]
    },
    {
     "name": "stdout",
     "output_type": "stream",
     "text": [
      "[I 2025-05-19 23:33:22,334] Trial 16 finished with value: 0.5600431274926271 and parameters: {'n_estimators': 500, 'max_depth': 5, 'learning_rate': 0.0021061065041784754, 'subsample': 0.8353304942289294, 'colsample_bytree': 0.6035431157697128, 'gamma': 2.00919827563243, 'min_child_weight': 20, 'reg_alpha': 0.4561867911560839, 'reg_lambda': 0.6126946216226714}. Best is trial 1 with value: 0.5664213077245059.\n"
     ]
    },
    {
     "name": "stderr",
     "output_type": "stream",
     "text": [
      "Best trial: 1. Best value: 0.566421:  45%|████▌     | 18/40 [00:54<00:39,  1.81s/it, 54.15/3600 seconds]"
     ]
    },
    {
     "name": "stdout",
     "output_type": "stream",
     "text": [
      "[I 2025-05-19 23:33:23,151] Trial 17 finished with value: 0.5485022152337746 and parameters: {'n_estimators': 600, 'max_depth': 4, 'learning_rate': 0.045498656525013136, 'subsample': 0.6556909124847221, 'colsample_bytree': 0.7828457065732444, 'gamma': 4.064090190470401, 'min_child_weight': 6, 'reg_alpha': 0.993935811243795, 'reg_lambda': 0.34637284453620065}. Best is trial 1 with value: 0.5664213077245059.\n"
     ]
    },
    {
     "name": "stderr",
     "output_type": "stream",
     "text": [
      "Best trial: 1. Best value: 0.566421:  48%|████▊     | 19/40 [00:57<00:48,  2.30s/it, 57.61/3600 seconds]"
     ]
    },
    {
     "name": "stdout",
     "output_type": "stream",
     "text": [
      "[I 2025-05-19 23:33:26,614] Trial 18 finished with value: 0.5514270893801563 and parameters: {'n_estimators': 900, 'max_depth': 7, 'learning_rate': 0.007870086190390835, 'subsample': 0.7127171338920733, 'colsample_bytree': 0.848926656792974, 'gamma': 3.210021585284806, 'min_child_weight': 9, 'reg_alpha': 0.5948724154680873, 'reg_lambda': 0.1786800622461392}. Best is trial 1 with value: 0.5664213077245059.\n"
     ]
    },
    {
     "name": "stderr",
     "output_type": "stream",
     "text": [
      "Best trial: 19. Best value: 0.567645:  50%|█████     | 20/40 [00:59<00:44,  2.21s/it, 59.61/3600 seconds]"
     ]
    },
    {
     "name": "stdout",
     "output_type": "stream",
     "text": [
      "[I 2025-05-19 23:33:28,619] Trial 19 finished with value: 0.5676454122750604 and parameters: {'n_estimators': 400, 'max_depth': 6, 'learning_rate': 0.0034052673521274487, 'subsample': 0.8319288743345203, 'colsample_bytree': 0.9367769713248748, 'gamma': 2.1752676332702547, 'min_child_weight': 13, 'reg_alpha': 0.7852524757646594, 'reg_lambda': 0.03452569798754964}. Best is trial 19 with value: 0.5676454122750604.\n"
     ]
    },
    {
     "name": "stderr",
     "output_type": "stream",
     "text": [
      "Best trial: 20. Best value: 0.571135:  52%|█████▎    | 21/40 [01:01<00:41,  2.20s/it, 61.78/3600 seconds]"
     ]
    },
    {
     "name": "stdout",
     "output_type": "stream",
     "text": [
      "[I 2025-05-19 23:33:30,787] Trial 20 finished with value: 0.5711353323273752 and parameters: {'n_estimators': 300, 'max_depth': 8, 'learning_rate': 0.004760997043163551, 'subsample': 0.8290169224834714, 'colsample_bytree': 0.7150284437143839, 'gamma': 1.3905344399249935, 'min_child_weight': 13, 'reg_alpha': 0.20080052684257865, 'reg_lambda': 0.007361781930219087}. Best is trial 20 with value: 0.5711353323273752.\n"
     ]
    },
    {
     "name": "stderr",
     "output_type": "stream",
     "text": [
      "Best trial: 20. Best value: 0.571135:  55%|█████▌    | 22/40 [01:04<00:39,  2.21s/it, 64.02/3600 seconds]"
     ]
    },
    {
     "name": "stdout",
     "output_type": "stream",
     "text": [
      "[I 2025-05-19 23:33:33,021] Trial 21 finished with value: 0.5702680239466907 and parameters: {'n_estimators': 300, 'max_depth': 8, 'learning_rate': 0.005170431630772018, 'subsample': 0.841625004069887, 'colsample_bytree': 0.7265502796380705, 'gamma': 1.4230779713330617, 'min_child_weight': 13, 'reg_alpha': 0.11790438203723817, 'reg_lambda': 0.009151892441969012}. Best is trial 20 with value: 0.5711353323273752.\n"
     ]
    },
    {
     "name": "stderr",
     "output_type": "stream",
     "text": [
      "Best trial: 20. Best value: 0.571135:  57%|█████▊    | 23/40 [01:05<00:36,  2.13s/it, 65.97/3600 seconds]"
     ]
    },
    {
     "name": "stdout",
     "output_type": "stream",
     "text": [
      "[I 2025-05-19 23:33:34,969] Trial 22 finished with value: 0.5699072013161552 and parameters: {'n_estimators': 300, 'max_depth': 8, 'learning_rate': 0.005432958490412557, 'subsample': 0.8320351992447669, 'colsample_bytree': 0.7039760261882305, 'gamma': 1.4121336448943616, 'min_child_weight': 14, 'reg_alpha': 0.2491858177955827, 'reg_lambda': 0.08661453934899765}. Best is trial 20 with value: 0.5711353323273752.\n"
     ]
    },
    {
     "name": "stderr",
     "output_type": "stream",
     "text": [
      "Best trial: 20. Best value: 0.571135:  60%|██████    | 24/40 [01:07<00:33,  2.07s/it, 67.89/3600 seconds]"
     ]
    },
    {
     "name": "stdout",
     "output_type": "stream",
     "text": [
      "[I 2025-05-19 23:33:36,896] Trial 23 finished with value: 0.5696913756241236 and parameters: {'n_estimators': 300, 'max_depth': 8, 'learning_rate': 0.0059705777512169145, 'subsample': 0.8302226252670218, 'colsample_bytree': 0.7085962152665175, 'gamma': 1.4859832607769303, 'min_child_weight': 14, 'reg_alpha': 0.14058412258157135, 'reg_lambda': 0.0037449339604119264}. Best is trial 20 with value: 0.5711353323273752.\n"
     ]
    },
    {
     "name": "stderr",
     "output_type": "stream",
     "text": [
      "Best trial: 20. Best value: 0.571135:  62%|██████▎   | 25/40 [01:09<00:30,  2.03s/it, 69.82/3600 seconds]"
     ]
    },
    {
     "name": "stdout",
     "output_type": "stream",
     "text": [
      "[I 2025-05-19 23:33:38,817] Trial 24 finished with value: 0.5605179854882246 and parameters: {'n_estimators': 300, 'max_depth': 8, 'learning_rate': 0.012536219496679216, 'subsample': 0.9325306646190823, 'colsample_bytree': 0.6343254295541865, 'gamma': 0.1427530349469177, 'min_child_weight': 15, 'reg_alpha': 0.2377830328624853, 'reg_lambda': 0.11009532955000889}. Best is trial 20 with value: 0.5711353323273752.\n"
     ]
    },
    {
     "name": "stderr",
     "output_type": "stream",
     "text": [
      "Best trial: 20. Best value: 0.571135:  65%|██████▌   | 26/40 [01:12<00:30,  2.20s/it, 72.43/3600 seconds]"
     ]
    },
    {
     "name": "stdout",
     "output_type": "stream",
     "text": [
      "[I 2025-05-19 23:33:41,435] Trial 25 finished with value: 0.5672771197436988 and parameters: {'n_estimators': 400, 'max_depth': 8, 'learning_rate': 0.00502556949007271, 'subsample': 0.8790776708442917, 'colsample_bytree': 0.7003200317987678, 'gamma': 1.2794651722966675, 'min_child_weight': 15, 'reg_alpha': 0.14662107442420125, 'reg_lambda': 0.7939989253221398}. Best is trial 20 with value: 0.5711353323273752.\n"
     ]
    },
    {
     "name": "stderr",
     "output_type": "stream",
     "text": [
      "Best trial: 20. Best value: 0.571135:  68%|██████▊   | 27/40 [01:14<00:28,  2.20s/it, 74.61/3600 seconds]"
     ]
    },
    {
     "name": "stdout",
     "output_type": "stream",
     "text": [
      "[I 2025-05-19 23:33:43,618] Trial 26 finished with value: 0.5614150273348494 and parameters: {'n_estimators': 400, 'max_depth': 10, 'learning_rate': 0.0091551125060523, 'subsample': 0.8520533243321181, 'colsample_bytree': 0.7324630841708958, 'gamma': 2.2563680608629317, 'min_child_weight': 18, 'reg_alpha': 0.3288384600767946, 'reg_lambda': 0.2207518683166433}. Best is trial 20 with value: 0.5711353323273752.\n"
     ]
    },
    {
     "name": "stderr",
     "output_type": "stream",
     "text": [
      "Best trial: 20. Best value: 0.571135:  70%|███████   | 28/40 [01:16<00:23,  1.99s/it, 76.12/3600 seconds]"
     ]
    },
    {
     "name": "stdout",
     "output_type": "stream",
     "text": [
      "[I 2025-05-19 23:33:45,120] Trial 27 finished with value: 0.5333923284235985 and parameters: {'n_estimators': 300, 'max_depth': 8, 'learning_rate': 0.04435409299428802, 'subsample': 0.8015362759712316, 'colsample_bytree': 0.7909614586855324, 'gamma': 1.4626395830017453, 'min_child_weight': 12, 'reg_alpha': 0.2586788390139758, 'reg_lambda': 0.345660287598999}. Best is trial 20 with value: 0.5711353323273752.\n"
     ]
    },
    {
     "name": "stderr",
     "output_type": "stream",
     "text": [
      "Best trial: 20. Best value: 0.571135:  72%|███████▎  | 29/40 [01:20<00:28,  2.64s/it, 80.26/3600 seconds]"
     ]
    },
    {
     "name": "stdout",
     "output_type": "stream",
     "text": [
      "[I 2025-05-19 23:33:49,266] Trial 28 finished with value: 0.5654728754211312 and parameters: {'n_estimators': 500, 'max_depth': 9, 'learning_rate': 0.0014858563552213372, 'subsample': 0.9112429092055316, 'colsample_bytree': 0.6638266986565059, 'gamma': 0.467681582240727, 'min_child_weight': 15, 'reg_alpha': 0.09486277109695229, 'reg_lambda': 0.12147136850578077}. Best is trial 20 with value: 0.5711353323273752.\n"
     ]
    },
    {
     "name": "stderr",
     "output_type": "stream",
     "text": [
      "Best trial: 20. Best value: 0.571135:  75%|███████▌  | 30/40 [01:23<00:27,  2.78s/it, 83.38/3600 seconds]"
     ]
    },
    {
     "name": "stdout",
     "output_type": "stream",
     "text": [
      "[I 2025-05-19 23:33:52,382] Trial 29 finished with value: 0.5664839287343709 and parameters: {'n_estimators': 300, 'max_depth': 10, 'learning_rate': 0.004478046515286756, 'subsample': 0.95035457373553, 'colsample_bytree': 0.7694262922147543, 'gamma': 2.869426418170507, 'min_child_weight': 10, 'reg_alpha': 0.40353880996735625, 'reg_lambda': 0.08433609613714599}. Best is trial 20 with value: 0.5711353323273752.\n"
     ]
    },
    {
     "name": "stderr",
     "output_type": "stream",
     "text": [
      "Best trial: 20. Best value: 0.571135:  78%|███████▊  | 31/40 [01:25<00:22,  2.51s/it, 85.26/3600 seconds]"
     ]
    },
    {
     "name": "stdout",
     "output_type": "stream",
     "text": [
      "[I 2025-05-19 23:33:54,259] Trial 30 finished with value: 0.5387240181722956 and parameters: {'n_estimators': 400, 'max_depth': 8, 'learning_rate': 0.03647712747930789, 'subsample': 0.7866650826755501, 'colsample_bytree': 0.6875960141811793, 'gamma': 1.125793414320194, 'min_child_weight': 13, 'reg_alpha': 0.08970957232446819, 'reg_lambda': 0.31384703708202094}. Best is trial 20 with value: 0.5711353323273752.\n"
     ]
    },
    {
     "name": "stderr",
     "output_type": "stream",
     "text": [
      "Best trial: 20. Best value: 0.571135:  80%|████████  | 32/40 [01:27<00:18,  2.34s/it, 87.19/3600 seconds]"
     ]
    },
    {
     "name": "stdout",
     "output_type": "stream",
     "text": [
      "[I 2025-05-19 23:33:56,197] Trial 31 finished with value: 0.5696904795444309 and parameters: {'n_estimators': 300, 'max_depth': 8, 'learning_rate': 0.006456710411816599, 'subsample': 0.835134861131658, 'colsample_bytree': 0.7281893847258285, 'gamma': 1.6265836562880434, 'min_child_weight': 14, 'reg_alpha': 0.1795413992971782, 'reg_lambda': 0.0050056928985512976}. Best is trial 20 with value: 0.5711353323273752.\n"
     ]
    },
    {
     "name": "stderr",
     "output_type": "stream",
     "text": [
      "Best trial: 32. Best value: 0.572093:  82%|████████▎ | 33/40 [01:28<00:14,  2.14s/it, 88.86/3600 seconds]"
     ]
    },
    {
     "name": "stdout",
     "output_type": "stream",
     "text": [
      "[I 2025-05-19 23:33:57,866] Trial 32 finished with value: 0.5720925953235778 and parameters: {'n_estimators': 300, 'max_depth': 7, 'learning_rate': 0.004307727485728677, 'subsample': 0.8579715448441685, 'colsample_bytree': 0.7010096268266596, 'gamma': 2.5064015259742805, 'min_child_weight': 16, 'reg_alpha': 0.0900872401511853, 'reg_lambda': 0.06646114298053622}. Best is trial 32 with value: 0.5720925953235778.\n"
     ]
    },
    {
     "name": "stderr",
     "output_type": "stream",
     "text": [
      "Best trial: 32. Best value: 0.572093:  85%|████████▌ | 34/40 [01:30<00:12,  2.05s/it, 90.73/3600 seconds]"
     ]
    },
    {
     "name": "stdout",
     "output_type": "stream",
     "text": [
      "[I 2025-05-19 23:33:59,729] Trial 33 finished with value: 0.5560182343555634 and parameters: {'n_estimators': 500, 'max_depth': 7, 'learning_rate': 0.012981572698334947, 'subsample': 0.8188492728154952, 'colsample_bytree': 0.6576115498873707, 'gamma': 2.4803910441517, 'min_child_weight': 17, 'reg_alpha': 0.20892823617594458, 'reg_lambda': 0.2254861905076605}. Best is trial 32 with value: 0.5720925953235778.\n"
     ]
    },
    {
     "name": "stderr",
     "output_type": "stream",
     "text": [
      "Best trial: 32. Best value: 0.572093:  88%|████████▊ | 35/40 [01:34<00:12,  2.43s/it, 94.02/3600 seconds]"
     ]
    },
    {
     "name": "stdout",
     "output_type": "stream",
     "text": [
      "[I 2025-05-19 23:34:03,024] Trial 34 finished with value: 0.5701460746295057 and parameters: {'n_estimators': 400, 'max_depth': 9, 'learning_rate': 0.004084423308395326, 'subsample': 0.8577245853556978, 'colsample_bytree': 0.6202765768992454, 'gamma': 2.4583639743971357, 'min_child_weight': 11, 'reg_alpha': 0.05935428179257951, 'reg_lambda': 0.08104902034043608}. Best is trial 32 with value: 0.5720925953235778.\n"
     ]
    },
    {
     "name": "stderr",
     "output_type": "stream",
     "text": [
      "Best trial: 32. Best value: 0.572093:  90%|█████████ | 36/40 [01:37<00:10,  2.69s/it, 97.33/3600 seconds]"
     ]
    },
    {
     "name": "stdout",
     "output_type": "stream",
     "text": [
      "[I 2025-05-19 23:34:06,332] Trial 35 finished with value: 0.5676831087268611 and parameters: {'n_estimators': 400, 'max_depth': 9, 'learning_rate': 0.004022481557304368, 'subsample': 0.871376237717806, 'colsample_bytree': 0.6047292388084025, 'gamma': 2.366493056868124, 'min_child_weight': 11, 'reg_alpha': 0.056848015459998825, 'reg_lambda': 0.09337292799552646}. Best is trial 32 with value: 0.5720925953235778.\n"
     ]
    },
    {
     "name": "stderr",
     "output_type": "stream",
     "text": [
      "Best trial: 32. Best value: 0.572093:  92%|█████████▎| 37/40 [01:43<00:10,  3.61s/it, 103.09/3600 seconds]"
     ]
    },
    {
     "name": "stdout",
     "output_type": "stream",
     "text": [
      "[I 2025-05-19 23:34:12,098] Trial 36 finished with value: 0.5703928084339961 and parameters: {'n_estimators': 500, 'max_depth': 10, 'learning_rate': 0.0020912534081955303, 'subsample': 0.9745226420178439, 'colsample_bytree': 0.6809990097536488, 'gamma': 1.9864349812784237, 'min_child_weight': 10, 'reg_alpha': 0.09609187260448329, 'reg_lambda': 0.04214714541406398}. Best is trial 32 with value: 0.5720925953235778.\n"
     ]
    },
    {
     "name": "stderr",
     "output_type": "stream",
     "text": [
      "Best trial: 32. Best value: 0.572093:  95%|█████████▌| 38/40 [01:46<00:06,  3.49s/it, 106.28/3600 seconds]"
     ]
    },
    {
     "name": "stdout",
     "output_type": "stream",
     "text": [
      "[I 2025-05-19 23:34:15,286] Trial 37 finished with value: 0.5632847313167308 and parameters: {'n_estimators': 500, 'max_depth': 6, 'learning_rate': 0.002029559884361779, 'subsample': 0.9663290330592995, 'colsample_bytree': 0.6793239747559325, 'gamma': 1.944845644938657, 'min_child_weight': 9, 'reg_alpha': 0.30222651583676596, 'reg_lambda': 0.04964967468287962}. Best is trial 32 with value: 0.5720925953235778.\n"
     ]
    },
    {
     "name": "stderr",
     "output_type": "stream",
     "text": [
      "Best trial: 32. Best value: 0.572093:  98%|█████████▊| 39/40 [01:50<00:03,  3.62s/it, 110.22/3600 seconds]"
     ]
    },
    {
     "name": "stdout",
     "output_type": "stream",
     "text": [
      "[I 2025-05-19 23:34:19,224] Trial 38 finished with value: 0.5613431216961986 and parameters: {'n_estimators': 500, 'max_depth': 10, 'learning_rate': 0.0011899003427019224, 'subsample': 0.9966412333178848, 'colsample_bytree': 0.7521188037932458, 'gamma': 0.8274414504337275, 'min_child_weight': 19, 'reg_alpha': 0.10639042873980364, 'reg_lambda': 0.2297404396743537}. Best is trial 32 with value: 0.5720925953235778.\n"
     ]
    },
    {
     "name": "stderr",
     "output_type": "stream",
     "text": [
      "Best trial: 32. Best value: 0.572093: 100%|██████████| 40/40 [01:52<00:00,  2.81s/it, 112.22/3600 seconds]\n"
     ]
    },
    {
     "name": "stdout",
     "output_type": "stream",
     "text": [
      "[I 2025-05-19 23:34:21,227] Trial 39 finished with value: 0.564305748262068 and parameters: {'n_estimators': 300, 'max_depth': 7, 'learning_rate': 0.0028463526433142707, 'subsample': 0.970250229976151, 'colsample_bytree': 0.6437792045456957, 'gamma': 2.7525125442806995, 'min_child_weight': 16, 'reg_alpha': 0.0012239743610675813, 'reg_lambda': 0.710859317044317}. Best is trial 32 with value: 0.5720925953235778.\n",
      "┌─ Millor F1(cl1) CV : 0.5721\n",
      "└─ Millors paràmetres: {'n_estimators': 300, 'max_depth': 7, 'learning_rate': 0.004307727485728677, 'subsample': 0.8579715448441685, 'colsample_bytree': 0.7010096268266596, 'gamma': 2.5064015259742805, 'min_child_weight': 16, 'reg_alpha': 0.0900872401511853, 'reg_lambda': 0.06646114298053622}\n",
      "              precision    recall  f1-score   support\n",
      "\n",
      "           0     0.6953    0.6312    0.6617       282\n",
      "           1     0.4851    0.5568    0.5185       176\n",
      "\n",
      "    accuracy                         0.6026       458\n",
      "   macro avg     0.5902    0.5940    0.5901       458\n",
      "weighted avg     0.6146    0.6026    0.6067       458\n",
      "\n"
     ]
    }
   ],
   "source": [
    "import pandas as pd\n",
    "import numpy as np\n",
    "from sklearn.model_selection import (train_test_split,\n",
    "                                     RepeatedStratifiedKFold,\n",
    "                                     cross_validate)\n",
    "from sklearn.preprocessing import StandardScaler, OneHotEncoder\n",
    "from sklearn.compose import ColumnTransformer\n",
    "from sklearn.impute import SimpleImputer\n",
    "from sklearn.metrics import make_scorer, f1_score, classification_report\n",
    "from imblearn.over_sampling import SMOTE\n",
    "from sklearn.pipeline import Pipeline\n",
    "from xgboost import XGBClassifier\n",
    "import warnings; warnings.filterwarnings(\"ignore\")\n",
    "import optuna\n",
    "# ─────────────────── 1. Dades ─────────────────────\n",
    "TARGET = \"TIRED\"\n",
    "df = pd.read_csv(\"../data/df_cleaned.csv\")\n",
    "\n",
    "df_complete = df.dropna(subset=[TARGET])\n",
    "X = df_complete.drop(columns=[TARGET]).copy()      # ← sense fuites\n",
    "y = df_complete[TARGET].astype(int)\n",
    "\n",
    "num_cols = X.select_dtypes(include=\"number\").columns.tolist()\n",
    "cat_cols = X.select_dtypes(exclude=\"number\").columns.tolist()\n",
    "\n",
    "numeric_t = [(\"imputer\", SimpleImputer(strategy=\"median\")),\n",
    "             (\"scaler\",  StandardScaler())]\n",
    "\n",
    "categoric_t = [(\"imputer\", SimpleImputer(strategy=\"most_frequent\")),\n",
    "               (\"ohe\",     OneHotEncoder(handle_unknown=\"ignore\",\n",
    "                                         sparse_output=False))]\n",
    "\n",
    "preprocessor = ColumnTransformer([\n",
    "    (\"num\", Pipeline(numeric_t),  num_cols),\n",
    "    (\"cat\", Pipeline(categoric_t), cat_cols)\n",
    "])\n",
    "\n",
    "# ─────────────────── 2. Optuna • XGBoost ─────────────────\n",
    "f1_cls1 = make_scorer(f1_score, pos_label=1)\n",
    "\n",
    "def objective(trial):\n",
    "    # ── hiperparàmetres ────────────────────────────\n",
    "    params = {\n",
    "        \"n_estimators\":       trial.suggest_int(\"n_estimators\", 300, 1200, step=100),\n",
    "        \"max_depth\":          trial.suggest_int(\"max_depth\", 3, 10),\n",
    "        \"learning_rate\":      trial.suggest_float(\"learning_rate\", 1e-3, .3, log=True),\n",
    "        \"subsample\":          trial.suggest_float(\"subsample\", .6, 1.0),\n",
    "        \"colsample_bytree\":   trial.suggest_float(\"colsample_bytree\", .6, 1.0),\n",
    "        \"gamma\":              trial.suggest_float(\"gamma\", 0, 5),\n",
    "        \"min_child_weight\":   trial.suggest_int(\"min_child_weight\", 1, 20),\n",
    "        \"scale_pos_weight\":   (y.value_counts()[0] / y.value_counts()[1]),\n",
    "        \"reg_alpha\":          trial.suggest_float(\"reg_alpha\", 0, 1),\n",
    "        \"reg_lambda\":         trial.suggest_float(\"reg_lambda\", 0, 1)\n",
    "    }\n",
    "\n",
    "    xgb = XGBClassifier(\n",
    "        **params, objective=\"binary:logistic\",\n",
    "        eval_metric=\"logloss\", random_state=42, n_jobs=-1\n",
    "    )\n",
    "\n",
    "    pipe = ImbPipeline([\n",
    "        (\"prep\",  preprocessor),\n",
    "        (\"smote\", SMOTE(random_state=42)),\n",
    "        (\"clf\",   xgb)\n",
    "    ])\n",
    "\n",
    "    cv = RepeatedStratifiedKFold(n_splits=5, n_repeats=3, random_state=42)\n",
    "    cv_scores = cross_validate(pipe, X, y,\n",
    "                               cv=cv, n_jobs=-1,\n",
    "                               scoring=f1_cls1)\n",
    "    return np.mean(cv_scores[\"test_score\"])\n",
    "\n",
    "study = optuna.create_study(direction=\"maximize\",\n",
    "                            study_name=\"xgb_tired_f1\")\n",
    "study.optimize(objective, n_trials=40, timeout=3600, show_progress_bar=True)\n",
    "\n",
    "print(\"┌─ Millor F1(cl1) CV :\", round(study.best_value,4))\n",
    "print(\"└─ Millors paràmetres:\", study.best_params)\n",
    "\n",
    "# ─────────────────── 3. Avaluació final ───────────\n",
    "best_xgb = XGBClassifier(\n",
    "    **study.best_params,\n",
    "    objective=\"binary:logistic\",\n",
    "    eval_metric=\"logloss\",\n",
    "    random_state=42, n_jobs=-1\n",
    ")\n",
    "\n",
    "final_pipe = ImbPipeline([\n",
    "    (\"prep\",  preprocessor),\n",
    "    (\"smote\", SMOTE(random_state=42)),\n",
    "    (\"clf\",   best_xgb)\n",
    "])\n",
    "\n",
    "X_train, X_test, y_train, y_test = train_test_split(\n",
    "    X, y, test_size=.20, random_state=42, stratify=y)\n",
    "\n",
    "final_pipe.fit(X_train, y_train)\n",
    "y_pred = final_pipe.predict(X_test)\n",
    "\n",
    "print(classification_report(y_test, y_pred, digits=4))"
   ]
  }
 ],
 "metadata": {
  "kernelspec": {
   "display_name": ".venv",
   "language": "python",
   "name": "python3"
  },
  "language_info": {
   "codemirror_mode": {
    "name": "ipython",
    "version": 3
   },
   "file_extension": ".py",
   "mimetype": "text/x-python",
   "name": "python",
   "nbconvert_exporter": "python",
   "pygments_lexer": "ipython3",
   "version": "3.13.0"
  }
 },
 "nbformat": 4,
 "nbformat_minor": 5
}
