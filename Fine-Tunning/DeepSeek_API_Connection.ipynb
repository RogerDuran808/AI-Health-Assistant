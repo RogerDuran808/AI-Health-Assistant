{
  "cells": [
    {
      "cell_type": "code",
      "execution_count": 1,
      "metadata": {
        "colab": {
          "base_uri": "https://localhost:8080/",
          "height": 408
        },
        "id": "in7Nxs_pn0Ey",
        "outputId": "2c8a545a-0f99-4f6d-e63a-6ed435b86716"
      },
      "outputs": [
        {
          "name": "stdout",
          "output_type": "stream",
          "text": [
            "Minimizing muscle soreness, often referred to as Delayed Onset Muscle Soreness (DOMS), involves a combination of strategies before, during, and after exercise. Here are some effective tips:\n",
            "\n",
            "### **Before Exercise:**\n",
            "1. **Warm-Up Properly:**\n",
            "   - Spend 5–10 minutes doing light cardio (e.g., jogging, cycling) to increase blood flow to your muscles.\n",
            "   - Include dynamic stretches (e.g., leg swings, arm circles) to prepare your muscles for activity.\n",
            "\n",
            "2. **Stay Hydrated:**\n",
            "   - Drink water before, during, and after exercise to prevent dehydration, which can worsen soreness.\n",
            "\n",
            "3. **Eat a Balanced Diet:**\n",
            "   - Consume adequate protein, carbohydrates, and healthy fats to fuel your muscles and support recovery.\n",
            "\n",
            "---\n",
            "\n",
            "### **During Exercise:**\n",
            "1. **Progress Gradually:**\n",
            "   - Avoid sudden increases in intensity, duration, or weight. Gradually build up your workouts to allow your muscles to adapt.\n",
            "\n",
            "2. **Use Proper Form:**\n",
            "   - Incorrect technique can strain muscles and lead to more soreness. Focus on maintaining good posture and alignment.\n",
            "\n",
            "3. **Stay Hydrated:**\n",
            "   - Sip water throughout your workout, especially during intense or prolonged sessions.\n",
            "\n",
            "---\n",
            "\n",
            "### **After Exercise:**\n",
            "1. **Cool Down:**\n",
            "   - Spend 5–10 minutes doing light cardio (e.g., walking) to help your body transition to a resting state.\n",
            "\n",
            "2. **Stretch:**\n",
            "   - Perform static stretches (e.g., hamstring stretch, quad stretch) to improve flexibility and reduce tension in your muscles.\n",
            "\n",
            "3. **Foam Rolling:**\n",
            "   - Use a foam roller to release tightness and improve blood flow to sore muscles.\n",
            "\n",
            "4. **Hydrate and Refuel:**\n",
            "   - Drink water and consume a post-workout snack or meal with protein and carbohydrates within 30–60 minutes to aid recovery.\n",
            "\n",
            "5. **Active Recovery:**\n",
            "   - Engage in low-intensity activities (e.g., walking, swimming, yoga) on rest days to promote blood flow and reduce stiffness.\n",
            "\n",
            "6. **Massage:**\n",
            "   - A gentle massage can help alleviate muscle tension and improve circulation.\n",
            "\n",
            "7. **Apply Ice or Heat:**\n",
            "   - Use ice packs for acute soreness or inflammation and heat for chronic stiffness or tightness.\n",
            "\n",
            "8. **Get Enough Sleep:**\n",
            "   - Aim for 7–9 hours of quality sleep to allow your body to repair and recover.\n",
            "\n",
            "---\n",
            "\n",
            "### **Other Tips:**\n",
            "- **Supplements:**\n",
            "  - Consider supplements like omega-3 fatty acids, tart cherry juice, or magnesium, which may help reduce inflammation and soreness.\n",
            "- **Listen to Your Body:**\n",
            "  - Avoid overtraining and give your muscles time to recover between intense workouts.\n",
            "\n",
            "By incorporating these strategies, you can minimize muscle soreness and improve your overall recovery.\n"
          ]
        }
      ],
      "source": [
        "from openai import OpenAI\n",
        "\n",
        "client = OpenAI(api_key=\"sk-b25eadb69daf42789c62c8cf752596c3\", base_url=\"https://api.deepseek.com\")\n",
        "\n",
        "response = client.chat.completions.create(\n",
        "    model=\"deepseek-chat\",\n",
        "    messages=[\n",
        "        {\"role\": \"system\", \"content\": \"You are an AI Health Assistant\"\n",
        "            },\n",
        "        {\"role\": \"user\", \"content\": \"How to minimize muscle soreness?\"},\n",
        "    ],\n",
        "    stream=False\n",
        ")\n",
        "\n",
        "print(response.choices[0].message.content)"
      ]
    }
  ],
  "metadata": {
    "accelerator": "GPU",
    "colab": {
      "gpuType": "T4",
      "provenance": []
    },
    "kernelspec": {
      "display_name": "Python 3",
      "name": "python3"
    },
    "language_info": {
      "codemirror_mode": {
        "name": "ipython",
        "version": 3
      },
      "file_extension": ".py",
      "mimetype": "text/x-python",
      "name": "python",
      "nbconvert_exporter": "python",
      "pygments_lexer": "ipython3",
      "version": "3.13.0"
    }
  },
  "nbformat": 4,
  "nbformat_minor": 0
}
